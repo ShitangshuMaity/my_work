{
  "nbformat": 4,
  "nbformat_minor": 0,
  "metadata": {
    "colab": {
      "name": "Assignment 2 MMA 823 - Sid.ipynb",
      "provenance": [],
      "collapsed_sections": [
        "t7R0rLozwawl"
      ],
      "authorship_tag": "ABX9TyMReWRrDGez0xMObmke/pzi",
      "include_colab_link": true
    },
    "kernelspec": {
      "name": "python3",
      "display_name": "Python 3"
    },
    "language_info": {
      "name": "python"
    }
  },
  "cells": [
    {
      "cell_type": "markdown",
      "metadata": {
        "id": "view-in-github",
        "colab_type": "text"
      },
      "source": [
        "<a href=\"https://colab.research.google.com/github/ShitangshuMaity/my_work/blob/master/Assignment_2_MMA_823_Sid.ipynb\" target=\"_parent\"><img src=\"https://colab.research.google.com/assets/colab-badge.svg\" alt=\"Open In Colab\"/></a>"
      ]
    },
    {
      "cell_type": "markdown",
      "source": [
        "MMA 823 Assignment 2 Bankruptcy Problem"
      ],
      "metadata": {
        "id": "XEm-tkfJz5Wo"
      }
    },
    {
      "cell_type": "markdown",
      "source": [
        "# IMPORT LIBRARY"
      ],
      "metadata": {
        "id": "EOqKKCwGY1aF"
      }
    },
    {
      "cell_type": "code",
      "execution_count": null,
      "metadata": {
        "id": "UCsIOjk8zU0n"
      },
      "outputs": [],
      "source": [
        "#import libraries\n",
        "import pandas as pd\n",
        "import numpy as np\n",
        "import tensorflow as tf\n",
        "import sklearn\n",
        "import seaborn as sns\n",
        "import matplotlib.pyplot as plt"
      ]
    },
    {
      "cell_type": "markdown",
      "source": [
        "Upload the dataset into the colab notebook"
      ],
      "metadata": {
        "id": "mSSkBipM38lv"
      }
    },
    {
      "cell_type": "code",
      "source": [
        "bankdata = pd.read_excel('Bankruptcy_data_Final.xlsx', na_values= np.nan)"
      ],
      "metadata": {
        "id": "4SBz5k6sURLo"
      },
      "execution_count": null,
      "outputs": []
    },
    {
      "cell_type": "code",
      "source": [
        "# alternative to uploading the dataset\n",
        "\n",
        "# from google.colab import files\n",
        "\n",
        "# data = files.upload()\n",
        "\n",
        "# uncomment this to use this option."
      ],
      "metadata": {
        "id": "tIiuH7S0gkcU"
      },
      "execution_count": null,
      "outputs": []
    },
    {
      "cell_type": "code",
      "source": [
        "bankdata.head(5)"
      ],
      "metadata": {
        "colab": {
          "base_uri": "https://localhost:8080/",
          "height": 204
        },
        "id": "hguKJK5fU4Pi",
        "outputId": "22b66a6e-20a1-4471-f53d-6a4a5782b382"
      },
      "execution_count": null,
      "outputs": [
        {
          "output_type": "execute_result",
          "data": {
            "text/html": [
              "\n",
              "  <div id=\"df-e1bce8e3-8cec-405c-b84c-a03863277e68\">\n",
              "    <div class=\"colab-df-container\">\n",
              "      <div>\n",
              "<style scoped>\n",
              "    .dataframe tbody tr th:only-of-type {\n",
              "        vertical-align: middle;\n",
              "    }\n",
              "\n",
              "    .dataframe tbody tr th {\n",
              "        vertical-align: top;\n",
              "    }\n",
              "\n",
              "    .dataframe thead th {\n",
              "        text-align: right;\n",
              "    }\n",
              "</style>\n",
              "<table border=\"1\" class=\"dataframe\">\n",
              "  <thead>\n",
              "    <tr style=\"text-align: right;\">\n",
              "      <th></th>\n",
              "      <th>EPS</th>\n",
              "      <th>Liquidity</th>\n",
              "      <th>Profitability</th>\n",
              "      <th>Productivity</th>\n",
              "      <th>Leverage Ratio</th>\n",
              "      <th>Asset Turnover</th>\n",
              "      <th>Operational Margin</th>\n",
              "      <th>Return on Equity</th>\n",
              "      <th>Market Book Ratio</th>\n",
              "      <th>Assets Growth</th>\n",
              "      <th>Sales Growth</th>\n",
              "      <th>Employee Growth</th>\n",
              "      <th>BK</th>\n",
              "    </tr>\n",
              "  </thead>\n",
              "  <tbody>\n",
              "    <tr>\n",
              "      <th>0</th>\n",
              "      <td>1.58</td>\n",
              "      <td>0.36</td>\n",
              "      <td>0.18</td>\n",
              "      <td>0.13</td>\n",
              "      <td>1.33</td>\n",
              "      <td>1.77</td>\n",
              "      <td>0.07</td>\n",
              "      <td>0.15</td>\n",
              "      <td>2.22</td>\n",
              "      <td>NaN</td>\n",
              "      <td>NaN</td>\n",
              "      <td>NaN</td>\n",
              "      <td>0</td>\n",
              "    </tr>\n",
              "    <tr>\n",
              "      <th>1</th>\n",
              "      <td>1.41</td>\n",
              "      <td>0.36</td>\n",
              "      <td>0.19</td>\n",
              "      <td>0.12</td>\n",
              "      <td>1.31</td>\n",
              "      <td>1.59</td>\n",
              "      <td>0.07</td>\n",
              "      <td>0.13</td>\n",
              "      <td>2.41</td>\n",
              "      <td>0.126319</td>\n",
              "      <td>0.014278</td>\n",
              "      <td>0.040179</td>\n",
              "      <td>0</td>\n",
              "    </tr>\n",
              "    <tr>\n",
              "      <th>2</th>\n",
              "      <td>0.31</td>\n",
              "      <td>0.32</td>\n",
              "      <td>0.13</td>\n",
              "      <td>0.08</td>\n",
              "      <td>1.03</td>\n",
              "      <td>1.55</td>\n",
              "      <td>0.05</td>\n",
              "      <td>0.04</td>\n",
              "      <td>2.56</td>\n",
              "      <td>0.368077</td>\n",
              "      <td>0.327909</td>\n",
              "      <td>0.566524</td>\n",
              "      <td>0</td>\n",
              "    </tr>\n",
              "    <tr>\n",
              "      <th>3</th>\n",
              "      <td>0.71</td>\n",
              "      <td>0.28</td>\n",
              "      <td>0.14</td>\n",
              "      <td>0.08</td>\n",
              "      <td>0.80</td>\n",
              "      <td>1.39</td>\n",
              "      <td>0.06</td>\n",
              "      <td>0.05</td>\n",
              "      <td>5.28</td>\n",
              "      <td>-0.020809</td>\n",
              "      <td>-0.118904</td>\n",
              "      <td>-0.095890</td>\n",
              "      <td>0</td>\n",
              "    </tr>\n",
              "    <tr>\n",
              "      <th>4</th>\n",
              "      <td>0.75</td>\n",
              "      <td>0.41</td>\n",
              "      <td>0.13</td>\n",
              "      <td>0.08</td>\n",
              "      <td>0.20</td>\n",
              "      <td>1.30</td>\n",
              "      <td>0.06</td>\n",
              "      <td>0.04</td>\n",
              "      <td>8.68</td>\n",
              "      <td>0.233089</td>\n",
              "      <td>0.146807</td>\n",
              "      <td>0.053030</td>\n",
              "      <td>0</td>\n",
              "    </tr>\n",
              "  </tbody>\n",
              "</table>\n",
              "</div>\n",
              "      <button class=\"colab-df-convert\" onclick=\"convertToInteractive('df-e1bce8e3-8cec-405c-b84c-a03863277e68')\"\n",
              "              title=\"Convert this dataframe to an interactive table.\"\n",
              "              style=\"display:none;\">\n",
              "        \n",
              "  <svg xmlns=\"http://www.w3.org/2000/svg\" height=\"24px\"viewBox=\"0 0 24 24\"\n",
              "       width=\"24px\">\n",
              "    <path d=\"M0 0h24v24H0V0z\" fill=\"none\"/>\n",
              "    <path d=\"M18.56 5.44l.94 2.06.94-2.06 2.06-.94-2.06-.94-.94-2.06-.94 2.06-2.06.94zm-11 1L8.5 8.5l.94-2.06 2.06-.94-2.06-.94L8.5 2.5l-.94 2.06-2.06.94zm10 10l.94 2.06.94-2.06 2.06-.94-2.06-.94-.94-2.06-.94 2.06-2.06.94z\"/><path d=\"M17.41 7.96l-1.37-1.37c-.4-.4-.92-.59-1.43-.59-.52 0-1.04.2-1.43.59L10.3 9.45l-7.72 7.72c-.78.78-.78 2.05 0 2.83L4 21.41c.39.39.9.59 1.41.59.51 0 1.02-.2 1.41-.59l7.78-7.78 2.81-2.81c.8-.78.8-2.07 0-2.86zM5.41 20L4 18.59l7.72-7.72 1.47 1.35L5.41 20z\"/>\n",
              "  </svg>\n",
              "      </button>\n",
              "      \n",
              "  <style>\n",
              "    .colab-df-container {\n",
              "      display:flex;\n",
              "      flex-wrap:wrap;\n",
              "      gap: 12px;\n",
              "    }\n",
              "\n",
              "    .colab-df-convert {\n",
              "      background-color: #E8F0FE;\n",
              "      border: none;\n",
              "      border-radius: 50%;\n",
              "      cursor: pointer;\n",
              "      display: none;\n",
              "      fill: #1967D2;\n",
              "      height: 32px;\n",
              "      padding: 0 0 0 0;\n",
              "      width: 32px;\n",
              "    }\n",
              "\n",
              "    .colab-df-convert:hover {\n",
              "      background-color: #E2EBFA;\n",
              "      box-shadow: 0px 1px 2px rgba(60, 64, 67, 0.3), 0px 1px 3px 1px rgba(60, 64, 67, 0.15);\n",
              "      fill: #174EA6;\n",
              "    }\n",
              "\n",
              "    [theme=dark] .colab-df-convert {\n",
              "      background-color: #3B4455;\n",
              "      fill: #D2E3FC;\n",
              "    }\n",
              "\n",
              "    [theme=dark] .colab-df-convert:hover {\n",
              "      background-color: #434B5C;\n",
              "      box-shadow: 0px 1px 3px 1px rgba(0, 0, 0, 0.15);\n",
              "      filter: drop-shadow(0px 1px 2px rgba(0, 0, 0, 0.3));\n",
              "      fill: #FFFFFF;\n",
              "    }\n",
              "  </style>\n",
              "\n",
              "      <script>\n",
              "        const buttonEl =\n",
              "          document.querySelector('#df-e1bce8e3-8cec-405c-b84c-a03863277e68 button.colab-df-convert');\n",
              "        buttonEl.style.display =\n",
              "          google.colab.kernel.accessAllowed ? 'block' : 'none';\n",
              "\n",
              "        async function convertToInteractive(key) {\n",
              "          const element = document.querySelector('#df-e1bce8e3-8cec-405c-b84c-a03863277e68');\n",
              "          const dataTable =\n",
              "            await google.colab.kernel.invokeFunction('convertToInteractive',\n",
              "                                                     [key], {});\n",
              "          if (!dataTable) return;\n",
              "\n",
              "          const docLinkHtml = 'Like what you see? Visit the ' +\n",
              "            '<a target=\"_blank\" href=https://colab.research.google.com/notebooks/data_table.ipynb>data table notebook</a>'\n",
              "            + ' to learn more about interactive tables.';\n",
              "          element.innerHTML = '';\n",
              "          dataTable['output_type'] = 'display_data';\n",
              "          await google.colab.output.renderOutput(dataTable, element);\n",
              "          const docLink = document.createElement('div');\n",
              "          docLink.innerHTML = docLinkHtml;\n",
              "          element.appendChild(docLink);\n",
              "        }\n",
              "      </script>\n",
              "    </div>\n",
              "  </div>\n",
              "  "
            ],
            "text/plain": [
              "    EPS  Liquidity  Profitability  ...  Sales Growth  Employee Growth  BK\n",
              "0  1.58       0.36           0.18  ...           NaN              NaN   0\n",
              "1  1.41       0.36           0.19  ...      0.014278         0.040179   0\n",
              "2  0.31       0.32           0.13  ...      0.327909         0.566524   0\n",
              "3  0.71       0.28           0.14  ...     -0.118904        -0.095890   0\n",
              "4  0.75       0.41           0.13  ...      0.146807         0.053030   0\n",
              "\n",
              "[5 rows x 13 columns]"
            ]
          },
          "metadata": {},
          "execution_count": 6
        }
      ]
    },
    {
      "cell_type": "code",
      "source": [
        "print(\"Dataframe dimension: \", bankdata.shape,\"\\n\")\n",
        "\n",
        "print(\"DataFrame Information:\")\n",
        "print(\"      .\")\n",
        "print(\"      .\")\n",
        "print(\"      .\")\n",
        "print(\"      V\\n\")\n",
        "bankdata.info()"
      ],
      "metadata": {
        "colab": {
          "base_uri": "https://localhost:8080/"
        },
        "id": "LhMuwQPt3SGz",
        "outputId": "f1d2cea2-ab80-44f9-8ac2-c5f0aa5aed50"
      },
      "execution_count": null,
      "outputs": [
        {
          "output_type": "stream",
          "name": "stdout",
          "text": [
            "Dataframe dimension:  (92872, 13) \n",
            "\n",
            "DataFrame Information:\n",
            "      .\n",
            "      .\n",
            "      .\n",
            "      V\n",
            "\n",
            "<class 'pandas.core.frame.DataFrame'>\n",
            "RangeIndex: 92872 entries, 0 to 92871\n",
            "Data columns (total 13 columns):\n",
            " #   Column              Non-Null Count  Dtype  \n",
            "---  ------              --------------  -----  \n",
            " 0   EPS                 92867 non-null  float64\n",
            " 1   Liquidity           92625 non-null  float64\n",
            " 2   Profitability       92625 non-null  float64\n",
            " 3   Productivity        92625 non-null  float64\n",
            " 4   Leverage Ratio      92846 non-null  float64\n",
            " 5   Asset Turnover      92625 non-null  float64\n",
            " 6   Operational Margin  87315 non-null  float64\n",
            " 7   Return on Equity    92864 non-null  float64\n",
            " 8   Market Book Ratio   92815 non-null  float64\n",
            " 9   Assets Growth       86171 non-null  float64\n",
            " 10  Sales Growth        86171 non-null  float64\n",
            " 11  Employee Growth     85862 non-null  float64\n",
            " 12  BK                  92872 non-null  int64  \n",
            "dtypes: float64(12), int64(1)\n",
            "memory usage: 9.2 MB\n"
          ]
        }
      ]
    },
    {
      "cell_type": "markdown",
      "source": [
        "# PRE-PROCESSING"
      ],
      "metadata": {
        "id": "UcNz-dOxYxAq"
      }
    },
    {
      "cell_type": "code",
      "source": [
        "# Percentage of Missing Data\n",
        "miss_bankdata = bankdata.isnull().sum()*100/len(bankdata)\n",
        "print(miss_bankdata)"
      ],
      "metadata": {
        "colab": {
          "base_uri": "https://localhost:8080/"
        },
        "id": "_qSClbnD5DNV",
        "outputId": "090e3d94-5f1d-47b8-f892-93b357dbc9ef"
      },
      "execution_count": null,
      "outputs": [
        {
          "output_type": "stream",
          "name": "stdout",
          "text": [
            "EPS                   0.005384\n",
            "Liquidity             0.265957\n",
            "Profitability         0.265957\n",
            "Productivity          0.265957\n",
            "Leverage Ratio        0.027996\n",
            "Asset Turnover        0.265957\n",
            "Operational Margin    5.983504\n",
            "Return on Equity      0.008614\n",
            "Market Book Ratio     0.061375\n",
            "Assets Growth         7.215307\n",
            "Sales Growth          7.215307\n",
            "Employee Growth       7.548023\n",
            "BK                    0.000000\n",
            "dtype: float64\n"
          ]
        }
      ]
    },
    {
      "cell_type": "code",
      "source": [
        "import missingno as msno\n",
        "import matplotlib.pyplot as plt\n",
        "msno.bar(bankdata, figsize=(12, 6), fontsize=12, color='steelblue')"
      ],
      "metadata": {
        "id": "kgJMn_8dvF9H",
        "outputId": "a1b7d6a6-ecb8-4b85-97c6-f9ccc5ea0c84",
        "colab": {
          "base_uri": "https://localhost:8080/",
          "height": 515
        }
      },
      "execution_count": null,
      "outputs": [
        {
          "output_type": "execute_result",
          "data": {
            "text/plain": [
              "<matplotlib.axes._subplots.AxesSubplot at 0x7f4725795fd0>"
            ]
          },
          "metadata": {},
          "execution_count": 9
        },
        {
          "output_type": "display_data",
          "data": {
            "image/png": "[encoded data removed]",
            "text/plain": [
              "<Figure size 864x432 with 3 Axes>"
            ]
          },
          "metadata": {
            "needs_background": "light"
          }
        }
      ]
    },
    {
      "cell_type": "markdown",
      "source": [
        "Visualizing the missing observations in the dataset\n",
        "\n",
        "The plot appears blank(white) wherever there are missing values."
      ],
      "metadata": {
        "id": "aBH98fn3p_oK"
      }
    },
    {
      "cell_type": "code",
      "source": [
        "msno.matrix(bankdata)"
      ],
      "metadata": {
        "colab": {
          "base_uri": "https://localhost:8080/",
          "height": 730
        },
        "id": "NpHwUxrSpopN",
        "outputId": "cf69fe12-3fd0-42d4-8bba-52cc2b5e9b62"
      },
      "execution_count": null,
      "outputs": [
        {
          "output_type": "execute_result",
          "data": {
            "text/plain": [
              "<matplotlib.axes._subplots.AxesSubplot at 0x7f4720f13a50>"
            ]
          },
          "metadata": {},
          "execution_count": 10
        },
        {
          "output_type": "display_data",
          "data": {
            "image/png": "[encoded data removed]",
            "text/plain": [
              "<Figure size 1800x720 with 2 Axes>"
            ]
          },
          "metadata": {
            "needs_background": "light"
          }
        }
      ]
    },
    {
      "cell_type": "code",
      "source": [
        "print('Target Variable Analysis')\n",
        "\n",
        "print(\"0: Non-Bankrupt\")\n",
        "print(\"1: Bankrupt\\n\")\n",
        "\n",
        "print(\"\\nBankrupt vs Non-Bankrupt\\n\", sns.countplot(x='BK',data=bankdata, ),\"\\n\")\n",
        "\n",
        "print(\"Non-Bankrupt data:\", ((bankdata['BK'] == 0).sum()/len(bankdata['BK'])*100),\"%\")\n",
        "print(\"Bankrupt data:\", ((bankdata['BK'] == 1).sum()/len(bankdata['BK'])*100),\"%\")"
      ],
      "metadata": {
        "colab": {
          "base_uri": "https://localhost:8080/",
          "height": 453
        },
        "id": "Kp9qrJow94M7",
        "outputId": "a9d78ff4-5b99-44e4-d18a-220e8d7b0186"
      },
      "execution_count": null,
      "outputs": [
        {
          "output_type": "stream",
          "name": "stdout",
          "text": [
            "Target Variable Analysis\n",
            "0: Non-Bankrupt\n",
            "1: Bankrupt\n",
            "\n",
            "\n",
            "Bankrupt vs Non-Bankrupt\n",
            " AxesSubplot(0.125,0.125;0.775x0.755) \n",
            "\n",
            "Non-Bankrupt data: 99.39917305538806 %\n",
            "Bankrupt data: 0.600826944611939 %\n"
          ]
        },
        {
          "output_type": "display_data",
          "data": {
            "image/png": "[encoded data removed]",
            "text/plain": [
              "<Figure size 432x288 with 1 Axes>"
            ]
          },
          "metadata": {
            "needs_background": "light"
          }
        }
      ]
    },
    {
      "cell_type": "markdown",
      "source": [
        "# DATA DICTONARY\n",
        "\n",
        "\n",
        "**Features**\n",
        "\n",
        "EPS – Earnings Per Share\n",
        "\n",
        "Liquidity – Working Capital/Total Assets\n",
        "\n",
        "Profitability – Retained Earnings/Total Assets\n",
        "\n",
        "Productivity – EBIT/Total Assets\n",
        "\n",
        "Leverage Ratio – (Total Long-term debt + Debt in Current liabilities)/Stockholders Equity\n",
        "\n",
        "Asset Turnover – Sales/ Total Assets\n",
        "\n",
        "Operational Margin – EBIT/Sales\n",
        "\n",
        "Market Book Ratio – (Price Close Annual Fiscal * Common Shares Outstanding)/Book Value Per Share\n",
        "\n",
        "Asset Growth – Change in assets from previous year\n",
        "\n",
        "Sales Growth – Change in sales from previous year\n",
        "\n",
        "Employee Growth – Change in employees from previous year\n",
        "\n",
        "Tobin’s Q – (Total market value of company + liabilities)/ (Total asset or book value + liabilities)\n",
        "\n",
        "\n",
        "\n",
        "---\n",
        "\n",
        "\n",
        "**Label**\n",
        "\n",
        "BK – Company bankrupt or not\n"
      ],
      "metadata": {
        "id": "t7R0rLozwawl"
      }
    },
    {
      "cell_type": "markdown",
      "source": [
        "# STEPS\n",
        "\n",
        "\n",
        "*   Impute the missing value - Use either simple imputer or KNN Imputer\n",
        "*   Oversample / Undersample the target varible - 'BK'\n",
        "\n",
        "*   Reference to video for handling data imbalance: https://www.youtube.com/watch?v=JnlM4yLFNuo\n",
        "\n",
        "*   Could use Pycaret to treat the data imbalance\n",
        "\n"
      ],
      "metadata": {
        "id": "sleWqjYjM9JG"
      }
    },
    {
      "cell_type": "markdown",
      "source": [
        "## Impute missing values"
      ],
      "metadata": {
        "id": "63LvQlT3jsED"
      }
    },
    {
      "cell_type": "markdown",
      "source": [
        "Imputing dataset using Simple Imputer"
      ],
      "metadata": {
        "id": "-GReGTgU4t1r"
      }
    },
    {
      "cell_type": "code",
      "source": [
        "from sklearn.impute import SimpleImputer\n",
        "si = SimpleImputer(strategy=\"constant\")"
      ],
      "metadata": {
        "id": "UTEkLOQcrWsx"
      },
      "execution_count": null,
      "outputs": []
    },
    {
      "cell_type": "code",
      "source": [
        "bankdata_si = bankdata.copy()\n",
        "bankdata_si.iloc[:,:] = si.fit_transform(bankdata_si)\n",
        "bankdata_si.isnull().sum()/len(bankdata_si)"
      ],
      "metadata": {
        "colab": {
          "base_uri": "https://localhost:8080/"
        },
        "id": "wXpaqdMsr2dh",
        "outputId": "e9fe5357-d35c-4505-d4df-d3078ce59407"
      },
      "execution_count": null,
      "outputs": [
        {
          "output_type": "execute_result",
          "data": {
            "text/plain": [
              "EPS                   0.0\n",
              "Liquidity             0.0\n",
              "Profitability         0.0\n",
              "Productivity          0.0\n",
              "Leverage Ratio        0.0\n",
              "Asset Turnover        0.0\n",
              "Operational Margin    0.0\n",
              "Return on Equity      0.0\n",
              "Market Book Ratio     0.0\n",
              "Assets Growth         0.0\n",
              "Sales Growth          0.0\n",
              "Employee Growth       0.0\n",
              "BK                    0.0\n",
              "dtype: float64"
            ]
          },
          "metadata": {},
          "execution_count": 13
        }
      ]
    },
    {
      "cell_type": "code",
      "source": [
        "msno.matrix(df = bankdata_si, fontsize=14)"
      ],
      "metadata": {
        "colab": {
          "base_uri": "https://localhost:8080/",
          "height": 715
        },
        "id": "PBzyaus-tTTu",
        "outputId": "d12ba7c0-8bbe-4616-8bc8-2b4eacf92ead"
      },
      "execution_count": null,
      "outputs": [
        {
          "output_type": "execute_result",
          "data": {
            "text/plain": [
              "<matplotlib.axes._subplots.AxesSubplot at 0x7f4720fd0a90>"
            ]
          },
          "metadata": {},
          "execution_count": 14
        },
        {
          "output_type": "display_data",
          "data": {
            "image/png": "[encoded data removed]",
            "text/plain": [
              "<Figure size 1800x720 with 2 Axes>"
            ]
          },
          "metadata": {
            "needs_background": "light"
          }
        }
      ]
    },
    {
      "cell_type": "code",
      "source": [
        "msno.bar(df = bankdata_si, fontsize= 14, color= 'steelblue')"
      ],
      "metadata": {
        "colab": {
          "base_uri": "https://localhost:8080/",
          "height": 752
        },
        "id": "Hyp9wN2FwzSr",
        "outputId": "d42a8398-f139-47f2-b411-f9dfc2e3a6fd"
      },
      "execution_count": null,
      "outputs": [
        {
          "output_type": "execute_result",
          "data": {
            "text/plain": [
              "<matplotlib.axes._subplots.AxesSubplot at 0x7f47213b3690>"
            ]
          },
          "metadata": {},
          "execution_count": 15
        },
        {
          "output_type": "display_data",
          "data": {
            "image/png": "[encoded data removed]",
            "text/plain": [
              "<Figure size 1800x720 with 3 Axes>"
            ]
          },
          "metadata": {
            "needs_background": "light"
          }
        }
      ]
    },
    {
      "cell_type": "markdown",
      "source": [
        "Imputing dataset using KNN Imputer"
      ],
      "metadata": {
        "id": "WoIYlrGf4zCP"
      }
    },
    {
      "cell_type": "code",
      "source": [
        "from sklearn.impute import KNNImputer\n",
        "ki = KNNImputer(n_neighbors=5, weights=\"uniform\")"
      ],
      "metadata": {
        "id": "8BSD7_u-ZNNM"
      },
      "execution_count": null,
      "outputs": []
    },
    {
      "cell_type": "code",
      "source": [
        "bankdata_ki = bankdata.copy()\n",
        "bankdata_ki.iloc[:,:] = ki.fit_transform(bankdata_ki)\n",
        "#data_ki_trans = ki.fit_transform(data_ki)"
      ],
      "metadata": {
        "id": "GjoBND3enrM0"
      },
      "execution_count": null,
      "outputs": []
    },
    {
      "cell_type": "code",
      "source": [
        "msno.bar(df = bankdata_ki)"
      ],
      "metadata": {
        "colab": {
          "base_uri": "https://localhost:8080/",
          "height": 771
        },
        "id": "QFd2rKjiypp3",
        "outputId": "435dfe8a-142f-406b-ddb2-7c6be398dfe2"
      },
      "execution_count": null,
      "outputs": [
        {
          "output_type": "execute_result",
          "data": {
            "text/plain": [
              "<matplotlib.axes._subplots.AxesSubplot at 0x7f472386a090>"
            ]
          },
          "metadata": {},
          "execution_count": 18
        },
        {
          "output_type": "display_data",
          "data": {
            "image/png": "[encoded data removed]",
            "text/plain": [
              "<Figure size 1800x720 with 3 Axes>"
            ]
          },
          "metadata": {
            "needs_background": "light"
          }
        }
      ]
    },
    {
      "cell_type": "code",
      "source": [
        "# Dataframe after imputation (KNN Imputation)\n",
        "\n",
        "bankdata_ki"
      ],
      "metadata": {
        "colab": {
          "base_uri": "https://localhost:8080/",
          "height": 481
        },
        "id": "V9ro-jCMOqNE",
        "outputId": "40955643-9ba9-49b4-fc38-b7392ccf0284"
      },
      "execution_count": null,
      "outputs": [
        {
          "output_type": "execute_result",
          "data": {
            "text/html": [
              "\n",
              "  <div id=\"df-6fd6c94e-786f-44c3-9d0e-7a23ea6cdb3a\">\n",
              "    <div class=\"colab-df-container\">\n",
              "      <div>\n",
              "<style scoped>\n",
              "    .dataframe tbody tr th:only-of-type {\n",
              "        vertical-align: middle;\n",
              "    }\n",
              "\n",
              "    .dataframe tbody tr th {\n",
              "        vertical-align: top;\n",
              "    }\n",
              "\n",
              "    .dataframe thead th {\n",
              "        text-align: right;\n",
              "    }\n",
              "</style>\n",
              "<table border=\"1\" class=\"dataframe\">\n",
              "  <thead>\n",
              "    <tr style=\"text-align: right;\">\n",
              "      <th></th>\n",
              "      <th>EPS</th>\n",
              "      <th>Liquidity</th>\n",
              "      <th>Profitability</th>\n",
              "      <th>Productivity</th>\n",
              "      <th>Leverage Ratio</th>\n",
              "      <th>Asset Turnover</th>\n",
              "      <th>Operational Margin</th>\n",
              "      <th>Return on Equity</th>\n",
              "      <th>Market Book Ratio</th>\n",
              "      <th>Assets Growth</th>\n",
              "      <th>Sales Growth</th>\n",
              "      <th>Employee Growth</th>\n",
              "      <th>BK</th>\n",
              "    </tr>\n",
              "  </thead>\n",
              "  <tbody>\n",
              "    <tr>\n",
              "      <th>0</th>\n",
              "      <td>1.580000</td>\n",
              "      <td>0.360000</td>\n",
              "      <td>0.180000</td>\n",
              "      <td>0.130000</td>\n",
              "      <td>1.330000</td>\n",
              "      <td>1.770000</td>\n",
              "      <td>0.070000</td>\n",
              "      <td>0.150000</td>\n",
              "      <td>2.220000</td>\n",
              "      <td>0.111757</td>\n",
              "      <td>-0.002385</td>\n",
              "      <td>0.057881</td>\n",
              "      <td>0.0</td>\n",
              "    </tr>\n",
              "    <tr>\n",
              "      <th>1</th>\n",
              "      <td>1.410000</td>\n",
              "      <td>0.360000</td>\n",
              "      <td>0.190000</td>\n",
              "      <td>0.120000</td>\n",
              "      <td>1.310000</td>\n",
              "      <td>1.590000</td>\n",
              "      <td>0.070000</td>\n",
              "      <td>0.130000</td>\n",
              "      <td>2.410000</td>\n",
              "      <td>0.126319</td>\n",
              "      <td>0.014278</td>\n",
              "      <td>0.040179</td>\n",
              "      <td>0.0</td>\n",
              "    </tr>\n",
              "    <tr>\n",
              "      <th>2</th>\n",
              "      <td>0.310000</td>\n",
              "      <td>0.320000</td>\n",
              "      <td>0.130000</td>\n",
              "      <td>0.080000</td>\n",
              "      <td>1.030000</td>\n",
              "      <td>1.550000</td>\n",
              "      <td>0.050000</td>\n",
              "      <td>0.040000</td>\n",
              "      <td>2.560000</td>\n",
              "      <td>0.368077</td>\n",
              "      <td>0.327909</td>\n",
              "      <td>0.566524</td>\n",
              "      <td>0.0</td>\n",
              "    </tr>\n",
              "    <tr>\n",
              "      <th>3</th>\n",
              "      <td>0.710000</td>\n",
              "      <td>0.280000</td>\n",
              "      <td>0.140000</td>\n",
              "      <td>0.080000</td>\n",
              "      <td>0.800000</td>\n",
              "      <td>1.390000</td>\n",
              "      <td>0.060000</td>\n",
              "      <td>0.050000</td>\n",
              "      <td>5.280000</td>\n",
              "      <td>-0.020809</td>\n",
              "      <td>-0.118904</td>\n",
              "      <td>-0.095890</td>\n",
              "      <td>0.0</td>\n",
              "    </tr>\n",
              "    <tr>\n",
              "      <th>4</th>\n",
              "      <td>0.750000</td>\n",
              "      <td>0.410000</td>\n",
              "      <td>0.130000</td>\n",
              "      <td>0.080000</td>\n",
              "      <td>0.200000</td>\n",
              "      <td>1.300000</td>\n",
              "      <td>0.060000</td>\n",
              "      <td>0.040000</td>\n",
              "      <td>8.680000</td>\n",
              "      <td>0.233089</td>\n",
              "      <td>0.146807</td>\n",
              "      <td>0.053030</td>\n",
              "      <td>0.0</td>\n",
              "    </tr>\n",
              "    <tr>\n",
              "      <th>...</th>\n",
              "      <td>...</td>\n",
              "      <td>...</td>\n",
              "      <td>...</td>\n",
              "      <td>...</td>\n",
              "      <td>...</td>\n",
              "      <td>...</td>\n",
              "      <td>...</td>\n",
              "      <td>...</td>\n",
              "      <td>...</td>\n",
              "      <td>...</td>\n",
              "      <td>...</td>\n",
              "      <td>...</td>\n",
              "      <td>...</td>\n",
              "    </tr>\n",
              "    <tr>\n",
              "      <th>92867</th>\n",
              "      <td>-1.488171</td>\n",
              "      <td>-0.015494</td>\n",
              "      <td>-0.758859</td>\n",
              "      <td>-0.056905</td>\n",
              "      <td>-1042.104918</td>\n",
              "      <td>0.174115</td>\n",
              "      <td>-0.326823</td>\n",
              "      <td>-6.614095</td>\n",
              "      <td>-1.846719</td>\n",
              "      <td>-0.073287</td>\n",
              "      <td>-0.557483</td>\n",
              "      <td>-0.076923</td>\n",
              "      <td>0.0</td>\n",
              "    </tr>\n",
              "    <tr>\n",
              "      <th>92868</th>\n",
              "      <td>-1.807630</td>\n",
              "      <td>0.093838</td>\n",
              "      <td>-1.204734</td>\n",
              "      <td>-0.121122</td>\n",
              "      <td>-4.530214</td>\n",
              "      <td>0.215844</td>\n",
              "      <td>-0.561155</td>\n",
              "      <td>-4.519074</td>\n",
              "      <td>-2.474549</td>\n",
              "      <td>-0.201835</td>\n",
              "      <td>-0.010544</td>\n",
              "      <td>-0.208333</td>\n",
              "      <td>0.0</td>\n",
              "    </tr>\n",
              "    <tr>\n",
              "      <th>92869</th>\n",
              "      <td>-0.015660</td>\n",
              "      <td>0.039260</td>\n",
              "      <td>0.000000</td>\n",
              "      <td>-0.082429</td>\n",
              "      <td>0.744907</td>\n",
              "      <td>0.254186</td>\n",
              "      <td>-0.324286</td>\n",
              "      <td>-0.569448</td>\n",
              "      <td>3274.505633</td>\n",
              "      <td>-0.168001</td>\n",
              "      <td>-0.020206</td>\n",
              "      <td>-0.105263</td>\n",
              "      <td>0.0</td>\n",
              "    </tr>\n",
              "    <tr>\n",
              "      <th>92870</th>\n",
              "      <td>-0.133054</td>\n",
              "      <td>0.053678</td>\n",
              "      <td>-0.029471</td>\n",
              "      <td>0.000998</td>\n",
              "      <td>0.574570</td>\n",
              "      <td>0.195683</td>\n",
              "      <td>0.005101</td>\n",
              "      <td>-0.085842</td>\n",
              "      <td>36.474842</td>\n",
              "      <td>0.076936</td>\n",
              "      <td>-0.170928</td>\n",
              "      <td>-0.058824</td>\n",
              "      <td>0.0</td>\n",
              "    </tr>\n",
              "    <tr>\n",
              "      <th>92871</th>\n",
              "      <td>-0.648028</td>\n",
              "      <td>-0.036524</td>\n",
              "      <td>-0.219774</td>\n",
              "      <td>-0.144842</td>\n",
              "      <td>0.693342</td>\n",
              "      <td>0.222476</td>\n",
              "      <td>-0.651048</td>\n",
              "      <td>-0.498483</td>\n",
              "      <td>55.624410</td>\n",
              "      <td>-0.063630</td>\n",
              "      <td>0.064574</td>\n",
              "      <td>0.062500</td>\n",
              "      <td>1.0</td>\n",
              "    </tr>\n",
              "  </tbody>\n",
              "</table>\n",
              "<p>92872 rows × 13 columns</p>\n",
              "</div>\n",
              "      <button class=\"colab-df-convert\" onclick=\"convertToInteractive('df-6fd6c94e-786f-44c3-9d0e-7a23ea6cdb3a')\"\n",
              "              title=\"Convert this dataframe to an interactive table.\"\n",
              "              style=\"display:none;\">\n",
              "        \n",
              "  <svg xmlns=\"http://www.w3.org/2000/svg\" height=\"24px\"viewBox=\"0 0 24 24\"\n",
              "       width=\"24px\">\n",
              "    <path d=\"M0 0h24v24H0V0z\" fill=\"none\"/>\n",
              "    <path d=\"M18.56 5.44l.94 2.06.94-2.06 2.06-.94-2.06-.94-.94-2.06-.94 2.06-2.06.94zm-11 1L8.5 8.5l.94-2.06 2.06-.94-2.06-.94L8.5 2.5l-.94 2.06-2.06.94zm10 10l.94 2.06.94-2.06 2.06-.94-2.06-.94-.94-2.06-.94 2.06-2.06.94z\"/><path d=\"M17.41 7.96l-1.37-1.37c-.4-.4-.92-.59-1.43-.59-.52 0-1.04.2-1.43.59L10.3 9.45l-7.72 7.72c-.78.78-.78 2.05 0 2.83L4 21.41c.39.39.9.59 1.41.59.51 0 1.02-.2 1.41-.59l7.78-7.78 2.81-2.81c.8-.78.8-2.07 0-2.86zM5.41 20L4 18.59l7.72-7.72 1.47 1.35L5.41 20z\"/>\n",
              "  </svg>\n",
              "      </button>\n",
              "      \n",
              "  <style>\n",
              "    .colab-df-container {\n",
              "      display:flex;\n",
              "      flex-wrap:wrap;\n",
              "      gap: 12px;\n",
              "    }\n",
              "\n",
              "    .colab-df-convert {\n",
              "      background-color: #E8F0FE;\n",
              "      border: none;\n",
              "      border-radius: 50%;\n",
              "      cursor: pointer;\n",
              "      display: none;\n",
              "      fill: #1967D2;\n",
              "      height: 32px;\n",
              "      padding: 0 0 0 0;\n",
              "      width: 32px;\n",
              "    }\n",
              "\n",
              "    .colab-df-convert:hover {\n",
              "      background-color: #E2EBFA;\n",
              "      box-shadow: 0px 1px 2px rgba(60, 64, 67, 0.3), 0px 1px 3px 1px rgba(60, 64, 67, 0.15);\n",
              "      fill: #174EA6;\n",
              "    }\n",
              "\n",
              "    [theme=dark] .colab-df-convert {\n",
              "      background-color: #3B4455;\n",
              "      fill: #D2E3FC;\n",
              "    }\n",
              "\n",
              "    [theme=dark] .colab-df-convert:hover {\n",
              "      background-color: #434B5C;\n",
              "      box-shadow: 0px 1px 3px 1px rgba(0, 0, 0, 0.15);\n",
              "      filter: drop-shadow(0px 1px 2px rgba(0, 0, 0, 0.3));\n",
              "      fill: #FFFFFF;\n",
              "    }\n",
              "  </style>\n",
              "\n",
              "      <script>\n",
              "        const buttonEl =\n",
              "          document.querySelector('#df-6fd6c94e-786f-44c3-9d0e-7a23ea6cdb3a button.colab-df-convert');\n",
              "        buttonEl.style.display =\n",
              "          google.colab.kernel.accessAllowed ? 'block' : 'none';\n",
              "\n",
              "        async function convertToInteractive(key) {\n",
              "          const element = document.querySelector('#df-6fd6c94e-786f-44c3-9d0e-7a23ea6cdb3a');\n",
              "          const dataTable =\n",
              "            await google.colab.kernel.invokeFunction('convertToInteractive',\n",
              "                                                     [key], {});\n",
              "          if (!dataTable) return;\n",
              "\n",
              "          const docLinkHtml = 'Like what you see? Visit the ' +\n",
              "            '<a target=\"_blank\" href=https://colab.research.google.com/notebooks/data_table.ipynb>data table notebook</a>'\n",
              "            + ' to learn more about interactive tables.';\n",
              "          element.innerHTML = '';\n",
              "          dataTable['output_type'] = 'display_data';\n",
              "          await google.colab.output.renderOutput(dataTable, element);\n",
              "          const docLink = document.createElement('div');\n",
              "          docLink.innerHTML = docLinkHtml;\n",
              "          element.appendChild(docLink);\n",
              "        }\n",
              "      </script>\n",
              "    </div>\n",
              "  </div>\n",
              "  "
            ],
            "text/plain": [
              "            EPS  Liquidity  Profitability  ...  Sales Growth  Employee Growth   BK\n",
              "0      1.580000   0.360000       0.180000  ...     -0.002385         0.057881  0.0\n",
              "1      1.410000   0.360000       0.190000  ...      0.014278         0.040179  0.0\n",
              "2      0.310000   0.320000       0.130000  ...      0.327909         0.566524  0.0\n",
              "3      0.710000   0.280000       0.140000  ...     -0.118904        -0.095890  0.0\n",
              "4      0.750000   0.410000       0.130000  ...      0.146807         0.053030  0.0\n",
              "...         ...        ...            ...  ...           ...              ...  ...\n",
              "92867 -1.488171  -0.015494      -0.758859  ...     -0.557483        -0.076923  0.0\n",
              "92868 -1.807630   0.093838      -1.204734  ...     -0.010544        -0.208333  0.0\n",
              "92869 -0.015660   0.039260       0.000000  ...     -0.020206        -0.105263  0.0\n",
              "92870 -0.133054   0.053678      -0.029471  ...     -0.170928        -0.058824  0.0\n",
              "92871 -0.648028  -0.036524      -0.219774  ...      0.064574         0.062500  1.0\n",
              "\n",
              "[92872 rows x 13 columns]"
            ]
          },
          "metadata": {},
          "execution_count": 19
        }
      ]
    },
    {
      "cell_type": "code",
      "source": [
        "print(\"Visualising the correlation between the features\\n\")\n",
        "corr = bankdata_ki.corr()\n",
        "\n",
        "plt.subplots(figsize=(15,15))\n",
        "\n",
        "sns.heatmap(corr, cmap='coolwarm_r',annot=True)\n",
        "plt.show()"
      ],
      "metadata": {
        "colab": {
          "base_uri": "https://localhost:8080/",
          "height": 988
        },
        "id": "ofps1tJPMkVk",
        "outputId": "ce97502f-e5b1-4564-c1c5-74a013c23151"
      },
      "execution_count": null,
      "outputs": [
        {
          "output_type": "stream",
          "name": "stdout",
          "text": [
            "Visualising the correlation between the features\n",
            "\n"
          ]
        },
        {
          "output_type": "display_data",
          "data": {
            "image/png": "[encoded data removed]",
            "text/plain": [
              "<Figure size 1080x1080 with 2 Axes>"
            ]
          },
          "metadata": {
            "needs_background": "light"
          }
        }
      ]
    },
    {
      "cell_type": "markdown",
      "source": [
        "## Balancing the DataSet.\n",
        "\n",
        "Since the target variable has data imbalance Non Bankrupt (0) vs Bankrupt (1) = 99.3% vs 0.06%.\n",
        "\n",
        "It would be better to oversample the minority data. Undersampling of majority data would lead to data loss.\n",
        "\n",
        "SMOTE Technique is being used oversampling..\n",
        "\n",
        "The data frame used here is the one imputed using KNN Imputer."
      ],
      "metadata": {
        "id": "m0Pyz7mW5k_3"
      }
    },
    {
      "cell_type": "code",
      "source": [
        "# The feature variables and the target variable will be separated in the bankdata dataframe\n",
        "x = bankdata_ki.drop(['BK'], axis = 1)\n",
        "y = bankdata_ki['BK']"
      ],
      "metadata": {
        "id": "ipjrkIz9QKiG"
      },
      "execution_count": null,
      "outputs": []
    },
    {
      "cell_type": "code",
      "source": [
        "x.head(5)"
      ],
      "metadata": {
        "colab": {
          "base_uri": "https://localhost:8080/",
          "height": 204
        },
        "id": "iE3RwNaJnZY5",
        "outputId": "63f8aa97-3c4a-4eb5-85e5-29b1913cdf8a"
      },
      "execution_count": null,
      "outputs": [
        {
          "output_type": "execute_result",
          "data": {
            "text/html": [
              "\n",
              "  <div id=\"df-87a22e3f-ea58-4a8c-9c96-091ed6f7f564\">\n",
              "    <div class=\"colab-df-container\">\n",
              "      <div>\n",
              "<style scoped>\n",
              "    .dataframe tbody tr th:only-of-type {\n",
              "        vertical-align: middle;\n",
              "    }\n",
              "\n",
              "    .dataframe tbody tr th {\n",
              "        vertical-align: top;\n",
              "    }\n",
              "\n",
              "    .dataframe thead th {\n",
              "        text-align: right;\n",
              "    }\n",
              "</style>\n",
              "<table border=\"1\" class=\"dataframe\">\n",
              "  <thead>\n",
              "    <tr style=\"text-align: right;\">\n",
              "      <th></th>\n",
              "      <th>EPS</th>\n",
              "      <th>Liquidity</th>\n",
              "      <th>Profitability</th>\n",
              "      <th>Productivity</th>\n",
              "      <th>Leverage Ratio</th>\n",
              "      <th>Asset Turnover</th>\n",
              "      <th>Operational Margin</th>\n",
              "      <th>Return on Equity</th>\n",
              "      <th>Market Book Ratio</th>\n",
              "      <th>Assets Growth</th>\n",
              "      <th>Sales Growth</th>\n",
              "      <th>Employee Growth</th>\n",
              "    </tr>\n",
              "  </thead>\n",
              "  <tbody>\n",
              "    <tr>\n",
              "      <th>0</th>\n",
              "      <td>1.58</td>\n",
              "      <td>0.36</td>\n",
              "      <td>0.18</td>\n",
              "      <td>0.13</td>\n",
              "      <td>1.33</td>\n",
              "      <td>1.77</td>\n",
              "      <td>0.07</td>\n",
              "      <td>0.15</td>\n",
              "      <td>2.22</td>\n",
              "      <td>0.111757</td>\n",
              "      <td>-0.002385</td>\n",
              "      <td>0.057881</td>\n",
              "    </tr>\n",
              "    <tr>\n",
              "      <th>1</th>\n",
              "      <td>1.41</td>\n",
              "      <td>0.36</td>\n",
              "      <td>0.19</td>\n",
              "      <td>0.12</td>\n",
              "      <td>1.31</td>\n",
              "      <td>1.59</td>\n",
              "      <td>0.07</td>\n",
              "      <td>0.13</td>\n",
              "      <td>2.41</td>\n",
              "      <td>0.126319</td>\n",
              "      <td>0.014278</td>\n",
              "      <td>0.040179</td>\n",
              "    </tr>\n",
              "    <tr>\n",
              "      <th>2</th>\n",
              "      <td>0.31</td>\n",
              "      <td>0.32</td>\n",
              "      <td>0.13</td>\n",
              "      <td>0.08</td>\n",
              "      <td>1.03</td>\n",
              "      <td>1.55</td>\n",
              "      <td>0.05</td>\n",
              "      <td>0.04</td>\n",
              "      <td>2.56</td>\n",
              "      <td>0.368077</td>\n",
              "      <td>0.327909</td>\n",
              "      <td>0.566524</td>\n",
              "    </tr>\n",
              "    <tr>\n",
              "      <th>3</th>\n",
              "      <td>0.71</td>\n",
              "      <td>0.28</td>\n",
              "      <td>0.14</td>\n",
              "      <td>0.08</td>\n",
              "      <td>0.80</td>\n",
              "      <td>1.39</td>\n",
              "      <td>0.06</td>\n",
              "      <td>0.05</td>\n",
              "      <td>5.28</td>\n",
              "      <td>-0.020809</td>\n",
              "      <td>-0.118904</td>\n",
              "      <td>-0.095890</td>\n",
              "    </tr>\n",
              "    <tr>\n",
              "      <th>4</th>\n",
              "      <td>0.75</td>\n",
              "      <td>0.41</td>\n",
              "      <td>0.13</td>\n",
              "      <td>0.08</td>\n",
              "      <td>0.20</td>\n",
              "      <td>1.30</td>\n",
              "      <td>0.06</td>\n",
              "      <td>0.04</td>\n",
              "      <td>8.68</td>\n",
              "      <td>0.233089</td>\n",
              "      <td>0.146807</td>\n",
              "      <td>0.053030</td>\n",
              "    </tr>\n",
              "  </tbody>\n",
              "</table>\n",
              "</div>\n",
              "      <button class=\"colab-df-convert\" onclick=\"convertToInteractive('df-87a22e3f-ea58-4a8c-9c96-091ed6f7f564')\"\n",
              "              title=\"Convert this dataframe to an interactive table.\"\n",
              "              style=\"display:none;\">\n",
              "        \n",
              "  <svg xmlns=\"http://www.w3.org/2000/svg\" height=\"24px\"viewBox=\"0 0 24 24\"\n",
              "       width=\"24px\">\n",
              "    <path d=\"M0 0h24v24H0V0z\" fill=\"none\"/>\n",
              "    <path d=\"M18.56 5.44l.94 2.06.94-2.06 2.06-.94-2.06-.94-.94-2.06-.94 2.06-2.06.94zm-11 1L8.5 8.5l.94-2.06 2.06-.94-2.06-.94L8.5 2.5l-.94 2.06-2.06.94zm10 10l.94 2.06.94-2.06 2.06-.94-2.06-.94-.94-2.06-.94 2.06-2.06.94z\"/><path d=\"M17.41 7.96l-1.37-1.37c-.4-.4-.92-.59-1.43-.59-.52 0-1.04.2-1.43.59L10.3 9.45l-7.72 7.72c-.78.78-.78 2.05 0 2.83L4 21.41c.39.39.9.59 1.41.59.51 0 1.02-.2 1.41-.59l7.78-7.78 2.81-2.81c.8-.78.8-2.07 0-2.86zM5.41 20L4 18.59l7.72-7.72 1.47 1.35L5.41 20z\"/>\n",
              "  </svg>\n",
              "      </button>\n",
              "      \n",
              "  <style>\n",
              "    .colab-df-container {\n",
              "      display:flex;\n",
              "      flex-wrap:wrap;\n",
              "      gap: 12px;\n",
              "    }\n",
              "\n",
              "    .colab-df-convert {\n",
              "      background-color: #E8F0FE;\n",
              "      border: none;\n",
              "      border-radius: 50%;\n",
              "      cursor: pointer;\n",
              "      display: none;\n",
              "      fill: #1967D2;\n",
              "      height: 32px;\n",
              "      padding: 0 0 0 0;\n",
              "      width: 32px;\n",
              "    }\n",
              "\n",
              "    .colab-df-convert:hover {\n",
              "      background-color: #E2EBFA;\n",
              "      box-shadow: 0px 1px 2px rgba(60, 64, 67, 0.3), 0px 1px 3px 1px rgba(60, 64, 67, 0.15);\n",
              "      fill: #174EA6;\n",
              "    }\n",
              "\n",
              "    [theme=dark] .colab-df-convert {\n",
              "      background-color: #3B4455;\n",
              "      fill: #D2E3FC;\n",
              "    }\n",
              "\n",
              "    [theme=dark] .colab-df-convert:hover {\n",
              "      background-color: #434B5C;\n",
              "      box-shadow: 0px 1px 3px 1px rgba(0, 0, 0, 0.15);\n",
              "      filter: drop-shadow(0px 1px 2px rgba(0, 0, 0, 0.3));\n",
              "      fill: #FFFFFF;\n",
              "    }\n",
              "  </style>\n",
              "\n",
              "      <script>\n",
              "        const buttonEl =\n",
              "          document.querySelector('#df-87a22e3f-ea58-4a8c-9c96-091ed6f7f564 button.colab-df-convert');\n",
              "        buttonEl.style.display =\n",
              "          google.colab.kernel.accessAllowed ? 'block' : 'none';\n",
              "\n",
              "        async function convertToInteractive(key) {\n",
              "          const element = document.querySelector('#df-87a22e3f-ea58-4a8c-9c96-091ed6f7f564');\n",
              "          const dataTable =\n",
              "            await google.colab.kernel.invokeFunction('convertToInteractive',\n",
              "                                                     [key], {});\n",
              "          if (!dataTable) return;\n",
              "\n",
              "          const docLinkHtml = 'Like what you see? Visit the ' +\n",
              "            '<a target=\"_blank\" href=https://colab.research.google.com/notebooks/data_table.ipynb>data table notebook</a>'\n",
              "            + ' to learn more about interactive tables.';\n",
              "          element.innerHTML = '';\n",
              "          dataTable['output_type'] = 'display_data';\n",
              "          await google.colab.output.renderOutput(dataTable, element);\n",
              "          const docLink = document.createElement('div');\n",
              "          docLink.innerHTML = docLinkHtml;\n",
              "          element.appendChild(docLink);\n",
              "        }\n",
              "      </script>\n",
              "    </div>\n",
              "  </div>\n",
              "  "
            ],
            "text/plain": [
              "    EPS  Liquidity  Profitability  ...  Assets Growth  Sales Growth  Employee Growth\n",
              "0  1.58       0.36           0.18  ...       0.111757     -0.002385         0.057881\n",
              "1  1.41       0.36           0.19  ...       0.126319      0.014278         0.040179\n",
              "2  0.31       0.32           0.13  ...       0.368077      0.327909         0.566524\n",
              "3  0.71       0.28           0.14  ...      -0.020809     -0.118904        -0.095890\n",
              "4  0.75       0.41           0.13  ...       0.233089      0.146807         0.053030\n",
              "\n",
              "[5 rows x 12 columns]"
            ]
          },
          "metadata": {},
          "execution_count": 22
        }
      ]
    },
    {
      "cell_type": "code",
      "source": [
        "y.head(5)"
      ],
      "metadata": {
        "colab": {
          "base_uri": "https://localhost:8080/"
        },
        "id": "uLg5cm_Wndz2",
        "outputId": "5d0a4d5e-9549-40ec-aab5-0022d35c71da"
      },
      "execution_count": null,
      "outputs": [
        {
          "output_type": "execute_result",
          "data": {
            "text/plain": [
              "0    0.0\n",
              "1    0.0\n",
              "2    0.0\n",
              "3    0.0\n",
              "4    0.0\n",
              "Name: BK, dtype: float64"
            ]
          },
          "metadata": {},
          "execution_count": 23
        }
      ]
    },
    {
      "cell_type": "code",
      "source": [
        "print(\"Shape of x dataset: \", x.shape)\n",
        "print(\"Shape of y dataset: \", y.shape)"
      ],
      "metadata": {
        "id": "Hfa9wW4RRMkh",
        "colab": {
          "base_uri": "https://localhost:8080/"
        },
        "outputId": "c1a1fb50-a8fe-4be3-9d9f-d18a2f5e3f6b"
      },
      "execution_count": null,
      "outputs": [
        {
          "output_type": "stream",
          "name": "stdout",
          "text": [
            "Shape of x dataset:  (92872, 12)\n",
            "Shape of y dataset:  (92872,)\n"
          ]
        }
      ]
    },
    {
      "cell_type": "code",
      "source": [
        "from sklearn.model_selection import train_test_split\n",
        "\n",
        "x_train, x_test, y_train, y_test = train_test_split(x, y, test_size=0.25, random_state=42)"
      ],
      "metadata": {
        "id": "Ir0K1iKcPR3h"
      },
      "execution_count": null,
      "outputs": []
    },
    {
      "cell_type": "code",
      "source": [
        "print(\"Target values in train data: \\n\", \n",
        "      y_train.value_counts())\n",
        "\n",
        "\n",
        "print(\"\\nTarget values in test data: \\n\", \n",
        "      y_test.value_counts())"
      ],
      "metadata": {
        "colab": {
          "base_uri": "https://localhost:8080/"
        },
        "id": "oJlnhJfgR5id",
        "outputId": "ca1c0145-e77a-44c3-8031-6a37ddaa80a6"
      },
      "execution_count": null,
      "outputs": [
        {
          "output_type": "stream",
          "name": "stdout",
          "text": [
            "Target values in train data: \n",
            " 0.0    69235\n",
            "1.0      419\n",
            "Name: BK, dtype: int64\n",
            "\n",
            "Target values in test data: \n",
            " 0.0    23079\n",
            "1.0      139\n",
            "Name: BK, dtype: int64\n"
          ]
        }
      ]
    },
    {
      "cell_type": "code",
      "source": [
        "print(\"Target values in test data: \\n\", \n",
        "      y_test.value_counts())"
      ],
      "metadata": {
        "colab": {
          "base_uri": "https://localhost:8080/"
        },
        "id": "FCFMMrt_SFHr",
        "outputId": "8ec0979c-e15b-4d9e-d12e-8a5e602e91c7"
      },
      "execution_count": null,
      "outputs": [
        {
          "output_type": "stream",
          "name": "stdout",
          "text": [
            "Target values in test data: \n",
            " 0.0    23079\n",
            "1.0      139\n",
            "Name: BK, dtype: int64\n"
          ]
        }
      ]
    },
    {
      "cell_type": "code",
      "source": [
        "# SMOTE being applied to KNN Imputed dataset\n",
        "import imblearn\n",
        "from imblearn.over_sampling import SMOTE"
      ],
      "metadata": {
        "id": "qIDIyzAcEZX4"
      },
      "execution_count": null,
      "outputs": []
    },
    {
      "cell_type": "code",
      "source": [
        "oversample = SMOTE()\n",
        "x_osm, y_osm = oversample.fit_resample(x_train, y_train)"
      ],
      "metadata": {
        "id": "AoquSPu7_5Yp"
      },
      "execution_count": null,
      "outputs": []
    },
    {
      "cell_type": "code",
      "source": [
        "print(f'''Shape of x_train before SMOTE: {x_train.shape}\n",
        "Shape of x_train train after SMOTE: {x_osm.shape}''')\n",
        "\n",
        "print(f'''\\nShape of y_train before SMOTE: {y_train.shape}\n",
        "Shape of y_train after SMOTE: {y_osm.shape}''')\n",
        "\n",
        "print('\\nBalance of positive and negative classes (%):')\n",
        "y_osm.value_counts(normalize=True) * 100"
      ],
      "metadata": {
        "colab": {
          "base_uri": "https://localhost:8080/"
        },
        "id": "pz-fDcFeF3uB",
        "outputId": "3d951efa-ebed-4842-daa0-56558d8ec76e"
      },
      "execution_count": null,
      "outputs": [
        {
          "output_type": "stream",
          "name": "stdout",
          "text": [
            "Shape of x_train before SMOTE: (69654, 12)\n",
            "Shape of x_train train after SMOTE: (138470, 12)\n",
            "\n",
            "Shape of y_train before SMOTE: (69654,)\n",
            "Shape of y_train after SMOTE: (138470,)\n",
            "\n",
            "Balance of positive and negative classes (%):\n"
          ]
        },
        {
          "output_type": "execute_result",
          "data": {
            "text/plain": [
              "0.0    50.0\n",
              "1.0    50.0\n",
              "Name: BK, dtype: float64"
            ]
          },
          "metadata": {},
          "execution_count": 30
        }
      ]
    },
    {
      "cell_type": "code",
      "source": [
        "np.bincount(y_osm)"
      ],
      "metadata": {
        "colab": {
          "base_uri": "https://localhost:8080/"
        },
        "id": "BXkETK_SYyAK",
        "outputId": "904a24e3-c53a-496b-b528-744534aa1680"
      },
      "execution_count": null,
      "outputs": [
        {
          "output_type": "execute_result",
          "data": {
            "text/plain": [
              "array([69235, 69235])"
            ]
          },
          "metadata": {},
          "execution_count": 31
        }
      ]
    },
    {
      "cell_type": "markdown",
      "source": [
        "## Machine Learning Algorithms\n",
        "\n",
        "*   XGBoost - It is capable of handling the missing values.\n",
        "*   Support Vector Machine\n",
        "*   Random Forest\n",
        "*   Logistic Regression"
      ],
      "metadata": {
        "id": "GgaavRKvZZUD"
      }
    },
    {
      "cell_type": "code",
      "source": [
        "from sklearn.metrics import confusion_matrix, accuracy_score, f1_score, recall_score, precision_score, roc_auc_score, classification_report"
      ],
      "metadata": {
        "id": "lXBMp_4MZU-V"
      },
      "execution_count": null,
      "outputs": []
    },
    {
      "cell_type": "markdown",
      "source": [
        "### Model-1 | XGBoost Classifier"
      ],
      "metadata": {
        "id": "j9A1QmYIoZFC"
      }
    },
    {
      "cell_type": "code",
      "source": [
        "from xgboost import XGBClassifier\n",
        "model1=XGBClassifier()\n",
        "model1.fit(x_osm, y_osm)"
      ],
      "metadata": {
        "colab": {
          "base_uri": "https://localhost:8080/"
        },
        "id": "0GtvSkfGZ6is",
        "outputId": "69337c70-d5bd-48cb-b8b0-ca876f6a45cd"
      },
      "execution_count": null,
      "outputs": [
        {
          "output_type": "execute_result",
          "data": {
            "text/plain": [
              "XGBClassifier()"
            ]
          },
          "metadata": {},
          "execution_count": 33
        }
      ]
    },
    {
      "cell_type": "code",
      "source": [
        "y_pred_xgb=model1.predict(x_test)\n",
        "print(\"y_pred:\\n\", y_pred_xgb)"
      ],
      "metadata": {
        "colab": {
          "base_uri": "https://localhost:8080/"
        },
        "id": "SYpZPzeUaQEA",
        "outputId": "9e7cb75a-aaeb-4ac2-df03-9a4f5a633a8c"
      },
      "execution_count": null,
      "outputs": [
        {
          "output_type": "stream",
          "name": "stdout",
          "text": [
            "y_pred:\n",
            " [0. 1. 1. ... 0. 0. 0.]\n"
          ]
        }
      ]
    },
    {
      "cell_type": "code",
      "source": [
        "acc1 = accuracy_score(y_test, y_pred_xgb,normalize=True)\n",
        "print(\"Accuracy: %.2f%%\" % (acc1 * 100.0),\"\\n\")\n",
        "print(\"Classification Report:\\n\", classification_report(y_test,y_pred_xgb))"
      ],
      "metadata": {
        "colab": {
          "base_uri": "https://localhost:8080/"
        },
        "id": "ywtuQfmzaSao",
        "outputId": "fd61ca00-f68d-4081-aa23-c8b8fbe90d41"
      },
      "execution_count": null,
      "outputs": [
        {
          "output_type": "stream",
          "name": "stdout",
          "text": [
            "Accuracy: 88.96% \n",
            "\n",
            "Classification Report:\n",
            "               precision    recall  f1-score   support\n",
            "\n",
            "         0.0       1.00      0.89      0.94     23079\n",
            "         1.0       0.04      0.77      0.08       139\n",
            "\n",
            "    accuracy                           0.89     23218\n",
            "   macro avg       0.52      0.83      0.51     23218\n",
            "weighted avg       0.99      0.89      0.94     23218\n",
            "\n"
          ]
        }
      ]
    },
    {
      "cell_type": "code",
      "source": [
        "tn, fp, fn, tp = confusion_matrix(y_test, y_pred_xgb).ravel()\n",
        "accuracy_xgb = accuracy_score(y_test, y_pred_xgb)\n",
        "f1_xgb = f1_score(y_test, y_pred_xgb)\n",
        "recall_xgb = recall_score(y_test, y_pred_xgb)\n",
        "precision_xgb  = precision_score(y_test, y_pred_xgb)\n",
        "roc_auc_xgb= roc_auc_score(y_test, y_pred_xgb)\n",
        "\n",
        "xgb_result = pd.DataFrame({\"Neg\"       : [tn + fn],\n",
        "                       \"True Neg\"  : [tn],\n",
        "                       \"False Neg\" : [fn],\n",
        "                       \"Pos\"       : [tp + fp],\n",
        "                       \"TP\"        : [tp],\n",
        "                       \"FP\"        : [fp],\n",
        "                       \"Accuracy\"  : [accuracy_xgb],\n",
        "                       \"Recall\"    : [recall_xgb],\n",
        "                       \"Precision\" : [precision_xgb],\n",
        "                       \"F1\"        : [f1_xgb],\n",
        "                       \"AUC\"       : [roc_auc_xgb],\n",
        "                      })\n",
        "   \n",
        "pd.set_option('max_columns', None)\n",
        "print(xgb_result)"
      ],
      "metadata": {
        "id": "FASgSDG7eN_2",
        "colab": {
          "base_uri": "https://localhost:8080/"
        },
        "outputId": "3cc8fdea-cad4-4ea1-fc3e-65ceebdd791d"
      },
      "execution_count": null,
      "outputs": [
        {
          "output_type": "stream",
          "name": "stdout",
          "text": [
            "     Neg  True Neg  False Neg   Pos   TP    FP  Accuracy    Recall  Precision  \\\n",
            "0  20579     20547         32  2639  107  2532  0.889568  0.769784   0.040546   \n",
            "\n",
            "         F1       AUC  \n",
            "0  0.077034  0.830037  \n"
          ]
        }
      ]
    },
    {
      "cell_type": "code",
      "source": [
        "print(\"Accuracy: %.2f%%\"  % (accuracy_xgb * 100.0))\n",
        "print(\"f1-score: %.2f%%\" % (f1_xgb* 100.0))\n",
        "print(\"Recall: %.2f%%\" % (recall_xgb* 100.0))\n",
        "print(\"Precision: %.2f%%\" % (precision_xgb* 100.0))\n",
        "print(\"ROC-AUC: %.2f%%\" % (roc_auc_xgb* 100.0))\n",
        "\n",
        "cfm_xgb = confusion_matrix(y_test, y_pred_xgb)\n",
        "print(\"\\nConfusion Matrix:\\n\", cfm_xgb, \"\\n\")\n",
        "\n",
        "trueNegative=cfm_xgb[0][0]\n",
        "falsePositive=cfm_xgb[0][1]\n",
        "falseNegative=cfm_xgb[1][0]\n",
        "truePositive=cfm_xgb[1][1]\n",
        "\n",
        "print(\"\\nCONFUSION MATRIX      VALUES\\n\")\n",
        "print(\"True Negative:        \", trueNegative)\n",
        "print(\"False Positive:       \", falsePositive)\n",
        "print(\"False Negative:       \", falseNegative)\n",
        "print(\"True Positive:        \", truePositive)"
      ],
      "metadata": {
        "id": "k4TYqFE2hNEn",
        "colab": {
          "base_uri": "https://localhost:8080/"
        },
        "outputId": "ddcc3600-001d-4f46-f53a-8eb4725e8f2a"
      },
      "execution_count": null,
      "outputs": [
        {
          "output_type": "stream",
          "name": "stdout",
          "text": [
            "Accuracy: 88.96%\n",
            "f1-score: 7.70%\n",
            "Recall: 76.98%\n",
            "Precision: 4.05%\n",
            "ROC-AUC: 83.00%\n",
            "\n",
            "Confusion Matrix:\n",
            " [[20547  2532]\n",
            " [   32   107]] \n",
            "\n",
            "\n",
            "CONFUSION MATRIX      VALUES\n",
            "\n",
            "True Negative:         20547\n",
            "False Positive:        2532\n",
            "False Negative:        32\n",
            "True Positive:         107\n"
          ]
        }
      ]
    },
    {
      "cell_type": "markdown",
      "source": [
        "### Model-2 | Logistic Regression"
      ],
      "metadata": {
        "id": "4NFVTQXBokpw"
      }
    },
    {
      "cell_type": "code",
      "source": [
        "from sklearn.linear_model import LogisticRegression\n",
        "model2=LogisticRegression()\n",
        "model2.fit(x_osm, y_osm)"
      ],
      "metadata": {
        "id": "NZkHtmHYgDCE",
        "colab": {
          "base_uri": "https://localhost:8080/"
        },
        "outputId": "a858db3e-bae6-4a4a-839d-2f78fdebfe5e"
      },
      "execution_count": null,
      "outputs": [
        {
          "output_type": "stream",
          "name": "stderr",
          "text": [
            "/usr/local/lib/python3.7/dist-packages/sklearn/linear_model/_logistic.py:818: ConvergenceWarning: lbfgs failed to converge (status=1):\n",
            "STOP: TOTAL NO. of ITERATIONS REACHED LIMIT.\n",
            "\n",
            "Increase the number of iterations (max_iter) or scale the data as shown in:\n",
            "    https://scikit-learn.org/stable/modules/preprocessing.html\n",
            "Please also refer to the documentation for alternative solver options:\n",
            "    https://scikit-learn.org/stable/modules/linear_model.html#logistic-regression\n",
            "  extra_warning_msg=_LOGISTIC_SOLVER_CONVERGENCE_MSG,\n"
          ]
        },
        {
          "output_type": "execute_result",
          "data": {
            "text/plain": [
              "LogisticRegression()"
            ]
          },
          "metadata": {},
          "execution_count": 38
        }
      ]
    },
    {
      "cell_type": "code",
      "source": [
        "y_pred_svm = model2.predict(x_test)\n",
        "print(\"y_pred:\\n\", y_pred_svm)\n",
        "\n",
        "acc2 = accuracy_score(y_test, y_pred_svm,normalize=True)\n",
        "print(\"Accuracy: %.2f%%\" % (acc2 * 100.0),\"\\n\")\n",
        "print(\"Classification Report of Logistic Regression:\\n\", classification_report(y_test,y_pred_svm))\n",
        "\n",
        "\n",
        "tn, fp, fn, tp = confusion_matrix(y_test, y_pred_svm).ravel()\n",
        "accuracy_svm   = accuracy_score(y_test, y_pred_svm)\n",
        "f1_svm = f1_score(y_test, y_pred_svm)\n",
        "recall_svm = recall_score(y_test, y_pred_svm)\n",
        "precision_svm  = precision_score(y_test, y_pred_svm)\n",
        "roc_auc_svm = roc_auc_score(y_test, y_pred_svm)\n",
        "\n",
        "\n",
        "logregresult = pd.DataFrame({\"Neg\"       : [tn + fn],\n",
        "                       \"True Neg\"  : [tn],\n",
        "                       \"False Neg\" : [fn],\n",
        "                       \"Pos\"       : [tp + fp],\n",
        "                       \"TP\"        : [tp],\n",
        "                       \"FP\"        : [fp],\n",
        "                       \"Accuracy\"  : [accuracy_svm],\n",
        "                       \"Recall\"    : [recall_svm],\n",
        "                       \"Precision\" : [precision_svm],\n",
        "                       \"F1\"        : [f1_svm],\n",
        "                       \"AUC\"       : [roc_auc_svm],\n",
        "                      })\n",
        "   \n",
        "pd.set_option('max_columns', None)\n",
        "print(logregresult)\n",
        "\n",
        "print(\"Accuracy: %.2f%%\"  % (accuracy_svm * 100.0))\n",
        "print(\"f1-score: %.2f%%\" % (f1_svm * 100.0))\n",
        "print(\"Recall: %.2f%%\" % (recall_svm * 100.0))\n",
        "print(\"Precision: %.2f%%\" % (precision_svm * 100.0))\n",
        "print(\"ROC-AUC: %.2f%%\" % (roc_auc_svm * 100.0))\n",
        "\n",
        "cfm_svm = confusion_matrix(y_test, y_pred_svm)\n",
        "print(\"\\nConfusion Matrix:\\n\", cfm_svm, \"\\n\")\n",
        "\n",
        "trueNegative=cfm_svm[0][0]\n",
        "falsePositive=cfm_svm[0][1]\n",
        "falseNegative=cfm_svm[1][0]\n",
        "truePositive=cfm_svm[1][1]\n",
        "\n",
        "print(\"\\nCONFUSION MATRIX      VALUES\\n\")\n",
        "print(\"True Negative:        \", trueNegative)\n",
        "print(\"False Positive:       \", falsePositive)\n",
        "print(\"False Negative:       \", falseNegative)\n",
        "print(\"True Positive:        \", truePositive)"
      ],
      "metadata": {
        "colab": {
          "base_uri": "https://localhost:8080/"
        },
        "id": "sd6tIx0m-lF-",
        "outputId": "b1c6e95f-265e-4aac-c1ff-40569abd393c"
      },
      "execution_count": null,
      "outputs": [
        {
          "output_type": "stream",
          "name": "stdout",
          "text": [
            "y_pred:\n",
            " [1. 1. 1. ... 0. 0. 1.]\n",
            "Accuracy: 19.38% \n",
            "\n",
            "Classification Report of Logistic Regression:\n",
            "               precision    recall  f1-score   support\n",
            "\n",
            "         0.0       0.99      0.19      0.32     23079\n",
            "         1.0       0.01      0.82      0.01       139\n",
            "\n",
            "    accuracy                           0.19     23218\n",
            "   macro avg       0.50      0.51      0.17     23218\n",
            "weighted avg       0.99      0.19      0.32     23218\n",
            "\n",
            "    Neg  True Neg  False Neg    Pos   TP     FP  Accuracy    Recall  \\\n",
            "0  4410      4385         25  18808  114  18694  0.193772  0.820144   \n",
            "\n",
            "   Precision        F1       AUC  \n",
            "0   0.006061  0.012034  0.505072  \n",
            "Accuracy: 19.38%\n",
            "f1-score: 1.20%\n",
            "Recall: 82.01%\n",
            "Precision: 0.61%\n",
            "ROC-AUC: 50.51%\n",
            "\n",
            "Confusion Matrix:\n",
            " [[ 4385 18694]\n",
            " [   25   114]] \n",
            "\n",
            "\n",
            "CONFUSION MATRIX      VALUES\n",
            "\n",
            "True Negative:         4385\n",
            "False Positive:        18694\n",
            "False Negative:        25\n",
            "True Positive:         114\n"
          ]
        }
      ]
    },
    {
      "cell_type": "markdown",
      "source": [
        "### Model-3 | Support Vector Machine Classifier"
      ],
      "metadata": {
        "id": "fcwZm-SfoePe"
      }
    },
    {
      "cell_type": "markdown",
      "source": [
        "For reasons beyond me, the google colab is not able to run SVM model.\n",
        "\n",
        "Might need to download the notebook and run it in anaconda or databricks."
      ],
      "metadata": {
        "id": "fzb7X-UPd4Vf"
      }
    },
    {
      "cell_type": "code",
      "source": [
        "from sklearn import svm"
      ],
      "metadata": {
        "id": "ZXeEIpTMCiG1"
      },
      "execution_count": null,
      "outputs": []
    },
    {
      "cell_type": "code",
      "source": [
        "model3 = svm.SVC()"
      ],
      "metadata": {
        "id": "Y0CnicirGxt2"
      },
      "execution_count": null,
      "outputs": []
    },
    {
      "cell_type": "code",
      "source": [
        "\n",
        "model3.fit(x_osm, y_osm)"
      ],
      "metadata": {
        "id": "TW_60pSZDiaK",
        "colab": {
          "base_uri": "https://localhost:8080/"
        },
        "outputId": "5ad123f9-d3a3-480c-f441-41ad82c87c62"
      },
      "execution_count": null,
      "outputs": [
        {
          "output_type": "execute_result",
          "data": {
            "text/plain": [
              "SVC()"
            ]
          },
          "metadata": {},
          "execution_count": 50
        }
      ]
    },
    {
      "cell_type": "markdown",
      "source": [
        "The model finally did run. However it took 41 minutes and 31 seconds to fit."
      ],
      "metadata": {
        "id": "pklcbxzxhPoT"
      }
    },
    {
      "cell_type": "code",
      "source": [
        "y_pred_svm = model3.predict(x_test)\n",
        "print(\"y_pred:\\n\", y_pred_svm)\n",
        "\n",
        "acc3 = accuracy_score(y_test, y_pred_svm,normalize=True)\n",
        "print(\"Accuracy: %.2f%%\" % (acc3 * 100.0),\"\\n\")\n",
        "print(\"Classification Report of Logistic Regression:\\n\", classification_report(y_test,y_pred_svm))\n",
        "\n",
        "\n",
        "tn, fp, fn, tp = confusion_matrix(y_test, y_pred_svm).ravel()\n",
        "accuracy_svm   = accuracy_score(y_test, y_pred_svm)\n",
        "f1_svm = f1_score(y_test, y_pred_svm)\n",
        "recall_svm = recall_score(y_test, y_pred_svm)\n",
        "precision_svm  = precision_score(y_test, y_pred_svm)\n",
        "roc_auc_svm = roc_auc_score(y_test, y_pred_svm)\n",
        "\n",
        "\n",
        "logregresult = pd.DataFrame({\"Neg\"       : [tn + fn],\n",
        "                       \"True Neg\"  : [tn],\n",
        "                       \"False Neg\" : [fn],\n",
        "                       \"Pos\"       : [tp + fp],\n",
        "                       \"TP\"        : [tp],\n",
        "                       \"FP\"        : [fp],\n",
        "                       \"Accuracy\"  : [accuracy_svm],\n",
        "                       \"Recall\"    : [recall_svm],\n",
        "                       \"Precision\" : [precision_svm],\n",
        "                       \"F1\"        : [f1_svm],\n",
        "                       \"AUC\"       : [roc_auc_svm],\n",
        "                      })\n",
        "   \n",
        "pd.set_option('max_columns', None)\n",
        "print(logregresult)\n",
        "\n",
        "print(\"Accuracy: %.2f%%\"  % (accuracy_svm * 100.0))\n",
        "print(\"f1-score: %.2f%%\" % (f1_svm * 100.0))\n",
        "print(\"Recall: %.2f%%\" % (recall_svm * 100.0))\n",
        "print(\"Precision: %.2f%%\" % (precision_svm * 100.0))\n",
        "print(\"ROC-AUC: %.2f%%\" % (roc_auc_svm * 100.0))\n",
        "\n",
        "cfm_svm = confusion_matrix(y_test, y_pred_svm)\n",
        "print(\"\\nConfusion Matrix:\\n\", cfm_svm, \"\\n\")\n",
        "\n",
        "trueNegative=cfm_svm[0][0]\n",
        "falsePositive=cfm_svm[0][1]\n",
        "falseNegative=cfm_svm[1][0]\n",
        "truePositive=cfm_svm[1][1]\n",
        "\n",
        "print(\"\\nCONFUSION MATRIX      VALUES\\n\")\n",
        "print(\"True Negative:        \", trueNegative)\n",
        "print(\"False Positive:       \", falsePositive)\n",
        "print(\"False Negative:       \", falseNegative)\n",
        "print(\"True Positive:        \", truePositive)"
      ],
      "metadata": {
        "colab": {
          "base_uri": "https://localhost:8080/"
        },
        "id": "7KSm6l_6AXMB",
        "outputId": "b1f814c4-066a-4775-c94c-e85191a2a5ff"
      },
      "execution_count": null,
      "outputs": [
        {
          "output_type": "stream",
          "name": "stdout",
          "text": [
            "y_pred:\n",
            " [1. 1. 1. ... 0. 1. 1.]\n",
            "Accuracy: 13.15% \n",
            "\n",
            "Classification Report of Logistic Regression:\n",
            "               precision    recall  f1-score   support\n",
            "\n",
            "         0.0       1.00      0.13      0.22     23079\n",
            "         1.0       0.01      0.97      0.01       139\n",
            "\n",
            "    accuracy                           0.13     23218\n",
            "   macro avg       0.50      0.55      0.12     23218\n",
            "weighted avg       0.99      0.13      0.22     23218\n",
            "\n",
            "    Neg  True Neg  False Neg    Pos   TP     FP  Accuracy    Recall  \\\n",
            "0  2922      2918          4  20296  135  20161  0.131493  0.971223   \n",
            "\n",
            "   Precision        F1       AUC  \n",
            "0   0.006652  0.013213  0.548829  \n",
            "Accuracy: 13.15%\n",
            "f1-score: 1.32%\n",
            "Recall: 97.12%\n",
            "Precision: 0.67%\n",
            "ROC-AUC: 54.88%\n",
            "\n",
            "Confusion Matrix:\n",
            " [[ 2918 20161]\n",
            " [    4   135]] \n",
            "\n",
            "\n",
            "CONFUSION MATRIX      VALUES\n",
            "\n",
            "True Negative:         2918\n",
            "False Positive:        20161\n",
            "False Negative:        4\n",
            "True Positive:         135\n"
          ]
        }
      ]
    },
    {
      "cell_type": "markdown",
      "source": [
        "### Model-4 | Random Forest Classifer"
      ],
      "metadata": {
        "id": "6XNtTBMGo3YR"
      }
    },
    {
      "cell_type": "code",
      "source": [
        "from sklearn.ensemble import RandomForestClassifier\n",
        "\n",
        "model4 = RandomForestClassifier(n_estimators=500, max_depth=None, max_leaf_nodes=None, class_weight='balanced')\n",
        "model4.fit(x_osm, y_osm)"
      ],
      "metadata": {
        "colab": {
          "base_uri": "https://localhost:8080/"
        },
        "id": "q88_VPqeo3Hn",
        "outputId": "59a34802-a14a-4412-baac-34f6af04afa8"
      },
      "execution_count": null,
      "outputs": [
        {
          "output_type": "execute_result",
          "data": {
            "text/plain": [
              "RandomForestClassifier(class_weight='balanced', n_estimators=500)"
            ]
          },
          "metadata": {},
          "execution_count": 40
        }
      ]
    },
    {
      "cell_type": "code",
      "source": [
        "y_pred_rfc = model4.predict(x_test)\n",
        "print(\"y_pred:\\n\", y_pred_rfc)\n",
        "\n",
        "acc4 = accuracy_score(y_test, y_pred_rfc,normalize=True)\n",
        "print(\"Accuracy: %.2f%%\" % (acc4 * 100.0),\"\\n\")\n",
        "print(\"Classification Report of Logistic Regression:\\n\", classification_report(y_test,y_pred_rfc))\n",
        "\n",
        "\n",
        "tn, fp, fn, tp = confusion_matrix(y_test, y_pred_rfc).ravel()\n",
        "accuracy_rfc   = accuracy_score(y_test, y_pred_rfc)\n",
        "f1_rfc = f1_score(y_test, y_pred_rfc)\n",
        "recall_rfc = recall_score(y_test, y_pred_rfc)\n",
        "precision_rfc  = precision_score(y_test, y_pred_rfc)\n",
        "roc_auc_rfc = roc_auc_score(y_test, y_pred_rfc)\n",
        "\n",
        "\n",
        "logregresult = pd.DataFrame({\"Neg\"       : [tn + fn],\n",
        "                       \"True Neg\"  : [tn],\n",
        "                       \"False Neg\" : [fn],\n",
        "                       \"Pos\"       : [tp + fp],\n",
        "                       \"TP\"        : [tp],\n",
        "                       \"FP\"        : [fp],\n",
        "                       \"Accuracy\"  : [accuracy_rfc],\n",
        "                       \"Recall\"    : [recall_rfc],\n",
        "                       \"Precision\" : [precision_rfc],\n",
        "                       \"F1\"        : [f1_rfc],\n",
        "                       \"AUC\"       : [roc_auc_rfc],\n",
        "                      })\n",
        "   \n",
        "pd.set_option('max_columns', None)\n",
        "print(logregresult)\n",
        "\n",
        "print(\"Accuracy: %.2f%%\"  % (accuracy_rfc * 100.0))\n",
        "print(\"f1-score: %.2f%%\" % (f1_rfc * 100.0))\n",
        "print(\"Recall: %.2f%%\" % (recall_rfc * 100.0))\n",
        "print(\"Precision: %.2f%%\" % (precision_rfc * 100.0))\n",
        "print(\"ROC-AUC: %.2f%%\" % (roc_auc_rfc * 100.0))\n",
        "\n",
        "cfm_rfc = confusion_matrix(y_test, y_pred_rfc)\n",
        "print(\"\\nConfusion Matrix:\\n\", cfm_rfc, \"\\n\")\n",
        "\n",
        "trueNegative=cfm_rfc[0][0]\n",
        "falsePositive=cfm_rfc[0][1]\n",
        "falseNegative=cfm_rfc[1][0]\n",
        "truePositive=cfm_rfc[1][1]\n",
        "\n",
        "print(\"\\nCONFUSION MATRIX      VALUES\\n\")\n",
        "print(\"True Negative:        \", trueNegative)\n",
        "print(\"False Positive:       \", falsePositive)\n",
        "print(\"False Negative:       \", falseNegative)\n",
        "print(\"True Positive:        \", truePositive)"
      ],
      "metadata": {
        "colab": {
          "base_uri": "https://localhost:8080/"
        },
        "id": "jug7QEqDLkZZ",
        "outputId": "2fcbd80b-5d3b-4433-90e3-c907b49586ba"
      },
      "execution_count": null,
      "outputs": [
        {
          "output_type": "stream",
          "name": "stdout",
          "text": [
            "y_pred:\n",
            " [0. 0. 0. ... 0. 0. 0.]\n",
            "Accuracy: 98.27% \n",
            "\n",
            "Classification Report of Logistic Regression:\n",
            "               precision    recall  f1-score   support\n",
            "\n",
            "         0.0       1.00      0.99      0.99     23079\n",
            "         1.0       0.12      0.29      0.17       139\n",
            "\n",
            "    accuracy                           0.98     23218\n",
            "   macro avg       0.56      0.64      0.58     23218\n",
            "weighted avg       0.99      0.98      0.99     23218\n",
            "\n",
            "     Neg  True Neg  False Neg  Pos  TP   FP  Accuracy    Recall  Precision  \\\n",
            "0  22874     22776         98  344  41  303  0.982729  0.294964   0.119186   \n",
            "\n",
            "         F1       AUC  \n",
            "0  0.169772  0.640918  \n",
            "Accuracy: 98.27%\n",
            "f1-score: 16.98%\n",
            "Recall: 29.50%\n",
            "Precision: 11.92%\n",
            "ROC-AUC: 64.09%\n",
            "\n",
            "Confusion Matrix:\n",
            " [[22776   303]\n",
            " [   98    41]] \n",
            "\n",
            "\n",
            "CONFUSION MATRIX      VALUES\n",
            "\n",
            "True Negative:         22776\n",
            "False Positive:        303\n",
            "False Negative:        98\n",
            "True Positive:         41\n"
          ]
        }
      ]
    },
    {
      "cell_type": "markdown",
      "source": [
        "### Model-5 | K Nearest Neighbour"
      ],
      "metadata": {
        "id": "D28zFL-t6Fc6"
      }
    },
    {
      "cell_type": "code",
      "source": [
        "from sklearn.neighbors import KNeighborsClassifier"
      ],
      "metadata": {
        "id": "zyY5olFH6FLh"
      },
      "execution_count": null,
      "outputs": []
    },
    {
      "cell_type": "code",
      "source": [
        "model5 = KNeighborsClassifier(n_neighbors=5, weights=\"uniform\", algorithm=\"auto\")\n",
        "model5.fit(x_osm, y_osm)"
      ],
      "metadata": {
        "colab": {
          "base_uri": "https://localhost:8080/"
        },
        "id": "RnBoF1NZSk4x",
        "outputId": "23500654-0ec2-4660-a988-d0767697c8a7"
      },
      "execution_count": null,
      "outputs": [
        {
          "output_type": "execute_result",
          "data": {
            "text/plain": [
              "KNeighborsClassifier()"
            ]
          },
          "metadata": {},
          "execution_count": 43
        }
      ]
    },
    {
      "cell_type": "code",
      "source": [
        "y_pred_knn = model5.predict(x_test)\n",
        "print(\"y_pred:\\n\", y_pred_knn)\n",
        "\n",
        "acc5 = accuracy_score(y_test, y_pred_knn,normalize=True)\n",
        "print(\"Accuracy: %.2f%%\" % (acc5 * 100.0),\"\\n\")\n",
        "print(\"Classification Report of Logistic Regression:\\n\", classification_report(y_test,y_pred_knn))\n",
        "\n",
        "\n",
        "tn, fp, fn, tp = confusion_matrix(y_test, y_pred_knn).ravel()\n",
        "accuracy_knn   = accuracy_score(y_test, y_pred_knn)\n",
        "f1_knn = f1_score(y_test, y_pred_knn)\n",
        "recall_knn = recall_score(y_test, y_pred_knn)\n",
        "precision_knn  = precision_score(y_test, y_pred_knn)\n",
        "roc_auc_knn = roc_auc_score(y_test, y_pred_knn)\n",
        "\n",
        "\n",
        "logregresult = pd.DataFrame({\"Neg\"       : [tn + fn],\n",
        "                       \"True Neg\"  : [tn],\n",
        "                       \"False Neg\" : [fn],\n",
        "                       \"Pos\"       : [tp + fp],\n",
        "                       \"TP\"        : [tp],\n",
        "                       \"FP\"        : [fp],\n",
        "                       \"Accuracy\"  : [accuracy_knn],\n",
        "                       \"Recall\"    : [recall_knn],\n",
        "                       \"Precision\" : [precision_knn],\n",
        "                       \"F1\"        : [f1_knn],\n",
        "                       \"AUC\"       : [roc_auc_knn],\n",
        "                      })\n",
        "   \n",
        "pd.set_option('max_columns', None)\n",
        "print(logregresult)\n",
        "\n",
        "print(\"Accuracy: %.2f%%\"  % (accuracy_knn * 100.0))\n",
        "print(\"f1-score: %.2f%%\" % (f1_knn * 100.0))\n",
        "print(\"Recall: %.2f%%\" % (recall_knn * 100.0))\n",
        "print(\"Precision: %.2f%%\" % (precision_knn * 100.0))\n",
        "print(\"ROC-AUC: %.2f%%\" % (roc_auc_knn * 100.0))\n",
        "\n",
        "cfm_knn = confusion_matrix(y_test, y_pred_knn)\n",
        "print(\"\\nConfusion Matrix:\\n\", cfm_knn, \"\\n\")\n",
        "\n",
        "trueNegative=cfm_knn[0][0]\n",
        "falsePositive=cfm_knn[0][1]\n",
        "falseNegative=cfm_knn[1][0]\n",
        "truePositive=cfm_knn[1][1]\n",
        "\n",
        "print(\"\\nCONFUSION MATRIX      VALUES\\n\")\n",
        "print(\"True Negative:        \", trueNegative)\n",
        "print(\"False Positive:       \", falsePositive)\n",
        "print(\"False Negative:       \", falseNegative)\n",
        "print(\"True Positive:        \", truePositive)"
      ],
      "metadata": {
        "colab": {
          "base_uri": "https://localhost:8080/"
        },
        "id": "J2QT7RoaTVhE",
        "outputId": "48813ebb-f474-4e19-d2c7-09438c1d2213"
      },
      "execution_count": null,
      "outputs": [
        {
          "output_type": "stream",
          "name": "stdout",
          "text": [
            "y_pred:\n",
            " [0. 0. 0. ... 0. 0. 0.]\n",
            "Accuracy: 92.85% \n",
            "\n",
            "Classification Report of Logistic Regression:\n",
            "               precision    recall  f1-score   support\n",
            "\n",
            "         0.0       1.00      0.93      0.96     23079\n",
            "         1.0       0.04      0.44      0.07       139\n",
            "\n",
            "    accuracy                           0.93     23218\n",
            "   macro avg       0.52      0.69      0.52     23218\n",
            "weighted avg       0.99      0.93      0.96     23218\n",
            "\n",
            "     Neg  True Neg  False Neg   Pos  TP    FP  Accuracy    Recall  Precision  \\\n",
            "0  21576     21498         78  1642  61  1581  0.928547  0.438849    0.03715   \n",
            "\n",
            "         F1       AUC  \n",
            "0  0.068501  0.685173  \n",
            "Accuracy: 92.85%\n",
            "f1-score: 6.85%\n",
            "Recall: 43.88%\n",
            "Precision: 3.71%\n",
            "ROC-AUC: 68.52%\n",
            "\n",
            "Confusion Matrix:\n",
            " [[21498  1581]\n",
            " [   78    61]] \n",
            "\n",
            "\n",
            "CONFUSION MATRIX      VALUES\n",
            "\n",
            "True Negative:         21498\n",
            "False Positive:        1581\n",
            "False Negative:        78\n",
            "True Positive:         61\n"
          ]
        }
      ]
    },
    {
      "cell_type": "markdown",
      "source": [
        "### Model-6 | Light GBM Classifier"
      ],
      "metadata": {
        "id": "0QLDDQvqdG3F"
      }
    },
    {
      "cell_type": "code",
      "source": [
        "import lightgbm as lgb\n",
        "\n",
        "model6 = lgb.LGBMClassifier()\n"
      ],
      "metadata": {
        "id": "6QuUYoi3dHJ2"
      },
      "execution_count": null,
      "outputs": []
    },
    {
      "cell_type": "code",
      "source": [
        "model6.fit(x_osm, y_osm)"
      ],
      "metadata": {
        "colab": {
          "base_uri": "https://localhost:8080/"
        },
        "id": "-vvcD1ahdllC",
        "outputId": "1dca9d37-0e9a-49df-ba14-0d66cc91266b"
      },
      "execution_count": null,
      "outputs": [
        {
          "output_type": "execute_result",
          "data": {
            "text/plain": [
              "LGBMClassifier()"
            ]
          },
          "metadata": {},
          "execution_count": 46
        }
      ]
    },
    {
      "cell_type": "code",
      "source": [
        "y_pred_lgb = model6.predict(x_test)\n",
        "print(\"y_pred:\\n\", y_pred_lgb)\n",
        "\n",
        "acc6 = accuracy_score(y_test, y_pred_lgb,normalize=True)\n",
        "print(\"Accuracy: %.2f%%\" % (acc6 * 100.0),\"\\n\")\n",
        "print(\"Classification Report of Logistic Regression:\\n\", classification_report(y_test,y_pred_lgb))\n",
        "\n",
        "\n",
        "tn, fp, fn, tp = confusion_matrix(y_test, y_pred_lgb).ravel()\n",
        "accuracy_lgb   = accuracy_score(y_test, y_pred_lgb)\n",
        "f1_lgb = f1_score(y_test, y_pred_lgb)\n",
        "recall_lgb = recall_score(y_test, y_pred_lgb)\n",
        "precision_lgb  = precision_score(y_test, y_pred_lgb)\n",
        "roc_auc_lgb = roc_auc_score(y_test, y_pred_lgb)\n",
        "\n",
        "\n",
        "logregresult = pd.DataFrame({\"Neg\"       : [tn + fn],\n",
        "                       \"True Neg\"  : [tn],\n",
        "                       \"False Neg\" : [fn],\n",
        "                       \"Pos\"       : [tp + fp],\n",
        "                       \"TP\"        : [tp],\n",
        "                       \"FP\"        : [fp],\n",
        "                       \"Accuracy\"  : [accuracy_lgb],\n",
        "                       \"Recall\"    : [recall_lgb],\n",
        "                       \"Precision\" : [precision_lgb],\n",
        "                       \"F1\"        : [f1_lgb],\n",
        "                       \"AUC\"       : [roc_auc_lgb],\n",
        "                      })\n",
        "   \n",
        "pd.set_option('max_columns', None)\n",
        "print(logregresult)\n",
        "\n",
        "print(\"Accuracy: %.2f%%\"  % (accuracy_lgb * 100.0))\n",
        "print(\"f1-score: %.2f%%\" % (f1_lgb * 100.0))\n",
        "print(\"Recall: %.2f%%\" % (recall_lgb * 100.0))\n",
        "print(\"Precision: %.2f%%\" % (precision_lgb * 100.0))\n",
        "print(\"ROC-AUC: %.2f%%\" % (roc_auc_lgb * 100.0))\n",
        "\n",
        "cfm_lgb = confusion_matrix(y_test, y_pred_lgb)\n",
        "print(\"\\nConfusion Matrix:\\n\", cfm_lgb, \"\\n\")\n",
        "\n",
        "trueNegative=cfm_lgb[0][0]\n",
        "falsePositive=cfm_lgb[0][1]\n",
        "falseNegative=cfm_lgb[1][0]\n",
        "truePositive=cfm_lgb[1][1]\n",
        "\n",
        "print(\"\\nCONFUSION MATRIX      VALUES\\n\")\n",
        "print(\"True Negative:        \", trueNegative)\n",
        "print(\"False Positive:       \", falsePositive)\n",
        "print(\"False Negative:       \", falseNegative)\n",
        "print(\"True Positive:        \", truePositive)"
      ],
      "metadata": {
        "colab": {
          "base_uri": "https://localhost:8080/"
        },
        "id": "1lcnQ8t1dsz4",
        "outputId": "7bddd363-77f3-49b0-98dc-754e9ad9cea3"
      },
      "execution_count": null,
      "outputs": [
        {
          "output_type": "stream",
          "name": "stdout",
          "text": [
            "y_pred:\n",
            " [0. 0. 0. ... 0. 0. 0.]\n",
            "Accuracy: 94.73% \n",
            "\n",
            "Classification Report of Logistic Regression:\n",
            "               precision    recall  f1-score   support\n",
            "\n",
            "         0.0       1.00      0.95      0.97     23079\n",
            "         1.0       0.07      0.64      0.13       139\n",
            "\n",
            "    accuracy                           0.95     23218\n",
            "   macro avg       0.53      0.79      0.55     23218\n",
            "weighted avg       0.99      0.95      0.97     23218\n",
            "\n",
            "     Neg  True Neg  False Neg   Pos  TP    FP  Accuracy    Recall  Precision  \\\n",
            "0  21955     21905         50  1263  89  1174  0.947282  0.640288   0.070467   \n",
            "\n",
            "         F1      AUC  \n",
            "0  0.126961  0.79471  \n",
            "Accuracy: 94.73%\n",
            "f1-score: 12.70%\n",
            "Recall: 64.03%\n",
            "Precision: 7.05%\n",
            "ROC-AUC: 79.47%\n",
            "\n",
            "Confusion Matrix:\n",
            " [[21905  1174]\n",
            " [   50    89]] \n",
            "\n",
            "\n",
            "CONFUSION MATRIX      VALUES\n",
            "\n",
            "True Negative:         21905\n",
            "False Positive:        1174\n",
            "False Negative:        50\n",
            "True Positive:         89\n"
          ]
        }
      ]
    },
    {
      "cell_type": "markdown",
      "source": [
        "# Result\n",
        "\n",
        "Among the models, XGBoost provides a better result, as it gives us better ROC-AUC."
      ],
      "metadata": {
        "id": "brjdpDapm_zZ"
      }
    }
  ]
}