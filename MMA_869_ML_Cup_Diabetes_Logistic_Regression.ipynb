{
  "nbformat": 4,
  "nbformat_minor": 0,
  "metadata": {
    "colab": {
      "name": "MMA 869 ML Cup Diabetes_Logistic Regression.ipynb",
      "provenance": [],
      "authorship_tag": "ABX9TyOMKy3/+o1/GVLoFE+V94Pd",
      "include_colab_link": true
    },
    "kernelspec": {
      "name": "python3",
      "display_name": "Python 3"
    },
    "language_info": {
      "name": "python"
    }
  },
  "cells": [
    {
      "cell_type": "markdown",
      "metadata": {
        "id": "view-in-github",
        "colab_type": "text"
      },
      "source": [
        "<a href=\"https://colab.research.google.com/github/ShitangshuMaity/my_work/blob/master/MMA_869_ML_Cup_Diabetes_Logistic_Regression.ipynb\" target=\"_parent\"><img src=\"https://colab.research.google.com/assets/colab-badge.svg\" alt=\"Open In Colab\"/></a>"
      ]
    },
    {
      "cell_type": "code",
      "metadata": {
        "colab": {
          "base_uri": "https://localhost:8080/"
        },
        "id": "bSp3YUgtiR3Y",
        "outputId": "c7164da3-0218-407d-ca33-f171726b8e62"
      },
      "source": [
        "import datetime\n",
        "print(datetime.datetime.now())\n",
        "!which python"
      ],
      "execution_count": null,
      "outputs": [
        {
          "output_type": "stream",
          "name": "stdout",
          "text": [
            "2021-12-03 00:44:51.859986\n",
            "/usr/local/bin/python\n"
          ]
        }
      ]
    },
    {
      "cell_type": "code",
      "metadata": {
        "colab": {
          "base_uri": "https://localhost:8080/"
        },
        "id": "iw3wFCkPiqti",
        "outputId": "beea11b8-7b87-4c49-bf9e-13bb4dfd440b"
      },
      "source": [
        "!python --version"
      ],
      "execution_count": null,
      "outputs": [
        {
          "output_type": "stream",
          "name": "stdout",
          "text": [
            "Python 3.7.12\n"
          ]
        }
      ]
    },
    {
      "cell_type": "code",
      "metadata": {
        "id": "tbYAFNWnisLC"
      },
      "source": [
        "# Importing Libraries\n",
        "\n",
        "import pandas as pd\n",
        "import numpy as np\n",
        "import sklearn\n",
        "import seaborn as sns #visualisation\n",
        "import matplotlib.pyplot as plt #visualisation"
      ],
      "execution_count": null,
      "outputs": []
    },
    {
      "cell_type": "code",
      "metadata": {
        "colab": {
          "base_uri": "https://localhost:8080/"
        },
        "id": "Na_xO6ahjALZ",
        "outputId": "1509cdb2-7ddc-4246-866d-409c2b638bad"
      },
      "source": [
        "# mounting the google drive to google colab\n",
        "# to access the csv files\n",
        "\n",
        "from google.colab import drive\n",
        "drive.mount('/content/drive/')"
      ],
      "execution_count": null,
      "outputs": [
        {
          "output_type": "stream",
          "name": "stdout",
          "text": [
            "Mounted at /content/drive/\n"
          ]
        }
      ]
    },
    {
      "cell_type": "code",
      "metadata": {
        "colab": {
          "base_uri": "https://localhost:8080/"
        },
        "id": "d5awPKl7jeV6",
        "outputId": "1662162a-83af-41b8-e794-69b0b7eac95f"
      },
      "source": [
        "print(\"loading the path to access the csv files\")\n",
        "path_train = (\"/content/drive/MyDrive/MMA 869 Kaggle Diabetes/diabetes_train.csv\")\n",
        "path_test = (\"/content/drive/MyDrive/MMA 869 Kaggle Diabetes/diabetes_test.csv\")"
      ],
      "execution_count": null,
      "outputs": [
        {
          "output_type": "stream",
          "name": "stdout",
          "text": [
            "loading the path to access the csv files\n"
          ]
        }
      ]
    },
    {
      "cell_type": "code",
      "metadata": {
        "colab": {
          "base_uri": "https://localhost:8080/"
        },
        "id": "aNRT3fGekioN",
        "outputId": "43b0ed56-8953-4d52-ddad-5e4a9490139b"
      },
      "source": [
        "print(\"Reading the Train & Test Data Sets\\n\")\n",
        "train = pd.read_csv(path_train)\n",
        "test = pd.read_csv(path_test)\n",
        "print(\"Dimensions of Train Data Set:\", train.shape)\n",
        "print(\"\\nDimensions of Test Data Set:\", test.shape,\"\\n\")\n",
        "\n",
        "train.info()\n",
        "test.info()"
      ],
      "execution_count": null,
      "outputs": [
        {
          "output_type": "stream",
          "name": "stdout",
          "text": [
            "Reading the Train & Test Data Sets\n",
            "\n",
            "Dimensions of Train Data Set: (576, 10)\n",
            "\n",
            "Dimensions of Test Data Set: (192, 9) \n",
            "\n",
            "<class 'pandas.core.frame.DataFrame'>\n",
            "RangeIndex: 576 entries, 0 to 575\n",
            "Data columns (total 10 columns):\n",
            " #   Column              Non-Null Count  Dtype  \n",
            "---  ------              --------------  -----  \n",
            " 0   Id                  576 non-null    int64  \n",
            " 1   num_times_pregnant  576 non-null    int64  \n",
            " 2   plasma_glucose      576 non-null    int64  \n",
            " 3   DBP                 576 non-null    int64  \n",
            " 4   triceps_skin        576 non-null    int64  \n",
            " 5   serum_insulin       576 non-null    int64  \n",
            " 6   BMI                 576 non-null    float64\n",
            " 7   pedigree            576 non-null    float64\n",
            " 8   age                 576 non-null    int64  \n",
            " 9   diabetes            576 non-null    int64  \n",
            "dtypes: float64(2), int64(8)\n",
            "memory usage: 45.1 KB\n",
            "<class 'pandas.core.frame.DataFrame'>\n",
            "RangeIndex: 192 entries, 0 to 191\n",
            "Data columns (total 9 columns):\n",
            " #   Column              Non-Null Count  Dtype  \n",
            "---  ------              --------------  -----  \n",
            " 0   Id                  192 non-null    int64  \n",
            " 1   num_times_pregnant  192 non-null    int64  \n",
            " 2   plasma_glucose      192 non-null    int64  \n",
            " 3   DBP                 192 non-null    int64  \n",
            " 4   triceps_skin        192 non-null    int64  \n",
            " 5   serum_insulin       192 non-null    int64  \n",
            " 6   BMI                 192 non-null    float64\n",
            " 7   pedigree            192 non-null    float64\n",
            " 8   age                 192 non-null    int64  \n",
            "dtypes: float64(2), int64(7)\n",
            "memory usage: 13.6 KB\n"
          ]
        }
      ]
    },
    {
      "cell_type": "code",
      "metadata": {
        "colab": {
          "base_uri": "https://localhost:8080/",
          "height": 204
        },
        "id": "5SzglWqMlu_0",
        "outputId": "259f4f2b-52b5-4105-f381-2819ece51433"
      },
      "source": [
        "train.head(5)"
      ],
      "execution_count": null,
      "outputs": [
        {
          "output_type": "execute_result",
          "data": {
            "text/html": [
              "<div>\n",
              "<style scoped>\n",
              "    .dataframe tbody tr th:only-of-type {\n",
              "        vertical-align: middle;\n",
              "    }\n",
              "\n",
              "    .dataframe tbody tr th {\n",
              "        vertical-align: top;\n",
              "    }\n",
              "\n",
              "    .dataframe thead th {\n",
              "        text-align: right;\n",
              "    }\n",
              "</style>\n",
              "<table border=\"1\" class=\"dataframe\">\n",
              "  <thead>\n",
              "    <tr style=\"text-align: right;\">\n",
              "      <th></th>\n",
              "      <th>Id</th>\n",
              "      <th>num_times_pregnant</th>\n",
              "      <th>plasma_glucose</th>\n",
              "      <th>DBP</th>\n",
              "      <th>triceps_skin</th>\n",
              "      <th>serum_insulin</th>\n",
              "      <th>BMI</th>\n",
              "      <th>pedigree</th>\n",
              "      <th>age</th>\n",
              "      <th>diabetes</th>\n",
              "    </tr>\n",
              "  </thead>\n",
              "  <tbody>\n",
              "    <tr>\n",
              "      <th>0</th>\n",
              "      <td>358</td>\n",
              "      <td>13</td>\n",
              "      <td>129</td>\n",
              "      <td>0</td>\n",
              "      <td>30</td>\n",
              "      <td>0</td>\n",
              "      <td>39.9</td>\n",
              "      <td>0.569</td>\n",
              "      <td>44</td>\n",
              "      <td>1</td>\n",
              "    </tr>\n",
              "    <tr>\n",
              "      <th>1</th>\n",
              "      <td>74</td>\n",
              "      <td>4</td>\n",
              "      <td>129</td>\n",
              "      <td>86</td>\n",
              "      <td>20</td>\n",
              "      <td>270</td>\n",
              "      <td>35.1</td>\n",
              "      <td>0.231</td>\n",
              "      <td>23</td>\n",
              "      <td>0</td>\n",
              "    </tr>\n",
              "    <tr>\n",
              "      <th>2</th>\n",
              "      <td>353</td>\n",
              "      <td>3</td>\n",
              "      <td>61</td>\n",
              "      <td>82</td>\n",
              "      <td>28</td>\n",
              "      <td>0</td>\n",
              "      <td>34.4</td>\n",
              "      <td>0.243</td>\n",
              "      <td>46</td>\n",
              "      <td>0</td>\n",
              "    </tr>\n",
              "    <tr>\n",
              "      <th>3</th>\n",
              "      <td>498</td>\n",
              "      <td>2</td>\n",
              "      <td>81</td>\n",
              "      <td>72</td>\n",
              "      <td>15</td>\n",
              "      <td>76</td>\n",
              "      <td>30.1</td>\n",
              "      <td>0.547</td>\n",
              "      <td>25</td>\n",
              "      <td>0</td>\n",
              "    </tr>\n",
              "    <tr>\n",
              "      <th>4</th>\n",
              "      <td>146</td>\n",
              "      <td>0</td>\n",
              "      <td>102</td>\n",
              "      <td>75</td>\n",
              "      <td>23</td>\n",
              "      <td>0</td>\n",
              "      <td>0.0</td>\n",
              "      <td>0.572</td>\n",
              "      <td>21</td>\n",
              "      <td>0</td>\n",
              "    </tr>\n",
              "  </tbody>\n",
              "</table>\n",
              "</div>"
            ],
            "text/plain": [
              "    Id  num_times_pregnant  plasma_glucose  DBP  ...   BMI  pedigree  age  diabetes\n",
              "0  358                  13             129    0  ...  39.9     0.569   44         1\n",
              "1   74                   4             129   86  ...  35.1     0.231   23         0\n",
              "2  353                   3              61   82  ...  34.4     0.243   46         0\n",
              "3  498                   2              81   72  ...  30.1     0.547   25         0\n",
              "4  146                   0             102   75  ...   0.0     0.572   21         0\n",
              "\n",
              "[5 rows x 10 columns]"
            ]
          },
          "metadata": {},
          "execution_count": 7
        }
      ]
    },
    {
      "cell_type": "code",
      "metadata": {
        "colab": {
          "base_uri": "https://localhost:8080/",
          "height": 204
        },
        "id": "s7hOBHiGj9sz",
        "outputId": "fd76e4fd-8658-4887-f9a9-23c644449a0d"
      },
      "source": [
        "test.head(5)"
      ],
      "execution_count": null,
      "outputs": [
        {
          "output_type": "execute_result",
          "data": {
            "text/html": [
              "<div>\n",
              "<style scoped>\n",
              "    .dataframe tbody tr th:only-of-type {\n",
              "        vertical-align: middle;\n",
              "    }\n",
              "\n",
              "    .dataframe tbody tr th {\n",
              "        vertical-align: top;\n",
              "    }\n",
              "\n",
              "    .dataframe thead th {\n",
              "        text-align: right;\n",
              "    }\n",
              "</style>\n",
              "<table border=\"1\" class=\"dataframe\">\n",
              "  <thead>\n",
              "    <tr style=\"text-align: right;\">\n",
              "      <th></th>\n",
              "      <th>Id</th>\n",
              "      <th>num_times_pregnant</th>\n",
              "      <th>plasma_glucose</th>\n",
              "      <th>DBP</th>\n",
              "      <th>triceps_skin</th>\n",
              "      <th>serum_insulin</th>\n",
              "      <th>BMI</th>\n",
              "      <th>pedigree</th>\n",
              "      <th>age</th>\n",
              "    </tr>\n",
              "  </thead>\n",
              "  <tbody>\n",
              "    <tr>\n",
              "      <th>0</th>\n",
              "      <td>669</td>\n",
              "      <td>6</td>\n",
              "      <td>98</td>\n",
              "      <td>58</td>\n",
              "      <td>33</td>\n",
              "      <td>190</td>\n",
              "      <td>34.0</td>\n",
              "      <td>0.430</td>\n",
              "      <td>43</td>\n",
              "    </tr>\n",
              "    <tr>\n",
              "      <th>1</th>\n",
              "      <td>325</td>\n",
              "      <td>2</td>\n",
              "      <td>112</td>\n",
              "      <td>75</td>\n",
              "      <td>32</td>\n",
              "      <td>0</td>\n",
              "      <td>35.7</td>\n",
              "      <td>0.148</td>\n",
              "      <td>21</td>\n",
              "    </tr>\n",
              "    <tr>\n",
              "      <th>2</th>\n",
              "      <td>625</td>\n",
              "      <td>2</td>\n",
              "      <td>108</td>\n",
              "      <td>64</td>\n",
              "      <td>0</td>\n",
              "      <td>0</td>\n",
              "      <td>30.8</td>\n",
              "      <td>0.158</td>\n",
              "      <td>21</td>\n",
              "    </tr>\n",
              "    <tr>\n",
              "      <th>3</th>\n",
              "      <td>691</td>\n",
              "      <td>8</td>\n",
              "      <td>107</td>\n",
              "      <td>80</td>\n",
              "      <td>0</td>\n",
              "      <td>0</td>\n",
              "      <td>24.6</td>\n",
              "      <td>0.856</td>\n",
              "      <td>34</td>\n",
              "    </tr>\n",
              "    <tr>\n",
              "      <th>4</th>\n",
              "      <td>474</td>\n",
              "      <td>7</td>\n",
              "      <td>136</td>\n",
              "      <td>90</td>\n",
              "      <td>0</td>\n",
              "      <td>0</td>\n",
              "      <td>29.9</td>\n",
              "      <td>0.210</td>\n",
              "      <td>50</td>\n",
              "    </tr>\n",
              "  </tbody>\n",
              "</table>\n",
              "</div>"
            ],
            "text/plain": [
              "    Id  num_times_pregnant  plasma_glucose  ...   BMI  pedigree  age\n",
              "0  669                   6              98  ...  34.0     0.430   43\n",
              "1  325                   2             112  ...  35.7     0.148   21\n",
              "2  625                   2             108  ...  30.8     0.158   21\n",
              "3  691                   8             107  ...  24.6     0.856   34\n",
              "4  474                   7             136  ...  29.9     0.210   50\n",
              "\n",
              "[5 rows x 9 columns]"
            ]
          },
          "metadata": {},
          "execution_count": 8
        }
      ]
    },
    {
      "cell_type": "code",
      "metadata": {
        "colab": {
          "base_uri": "https://localhost:8080/"
        },
        "id": "e9Gpkih1mLOW",
        "outputId": "0a06a6cd-f3f9-4b5f-8a4b-353e9a79e6be"
      },
      "source": [
        "print(\"\\nMissing Data: \")\n",
        "print(train.isnull().mean()*100)"
      ],
      "execution_count": null,
      "outputs": [
        {
          "output_type": "stream",
          "name": "stdout",
          "text": [
            "\n",
            "Missing Data: \n",
            "Id                    0.0\n",
            "num_times_pregnant    0.0\n",
            "plasma_glucose        0.0\n",
            "DBP                   0.0\n",
            "triceps_skin          0.0\n",
            "serum_insulin         0.0\n",
            "BMI                   0.0\n",
            "pedigree              0.0\n",
            "age                   0.0\n",
            "diabetes              0.0\n",
            "dtype: float64\n"
          ]
        }
      ]
    },
    {
      "cell_type": "code",
      "metadata": {
        "colab": {
          "base_uri": "https://localhost:8080/"
        },
        "id": "RH9AlRMto1eB",
        "outputId": "185457fd-1fd3-4c67-ec73-cc20b4099851"
      },
      "source": [
        "print(\"Count of Unique value of Target Variable:\\n\", train['diabetes'].nunique())\n",
        "\n",
        "print(\"Number of Zero's:\", (train['diabetes'] == 0).sum())\n",
        "print(\"Number of One's:\", (train['diabetes'] == 1).sum())"
      ],
      "execution_count": null,
      "outputs": [
        {
          "output_type": "stream",
          "name": "stdout",
          "text": [
            "Count of Unique value of Target Variable:\n",
            " 2\n",
            "Number of Zero's: 377\n",
            "Number of One's: 199\n"
          ]
        }
      ]
    },
    {
      "cell_type": "code",
      "metadata": {
        "colab": {
          "base_uri": "https://localhost:8080/",
          "height": 369
        },
        "id": "dwmVG27vmqDM",
        "outputId": "dcdcde3a-bd91-4b72-a10a-5909aa34f6d4"
      },
      "source": [
        "print(\"Diabetic VS Non-Diabetic\\n\", sns.countplot(x='diabetes',data=train, ),\"\\n\")\n",
        "print(\"0-No Diabetes\")\n",
        "print(\"1-Diabetes\")"
      ],
      "execution_count": null,
      "outputs": [
        {
          "output_type": "stream",
          "name": "stdout",
          "text": [
            "Diabetic VS Non-Diabetic\n",
            " AxesSubplot(0.125,0.125;0.775x0.755) \n",
            "\n",
            "0-No Diabetes\n",
            "1-Diabetes\n"
          ]
        },
        {
          "output_type": "display_data",
          "data": {
            "image/png": "[encoded data removed]",
            "text/plain": [
              "<Figure size 432x288 with 1 Axes>"
            ]
          },
          "metadata": {
            "needs_background": "light"
          }
        }
      ]
    },
    {
      "cell_type": "code",
      "metadata": {
        "colab": {
          "base_uri": "https://localhost:8080/",
          "height": 355
        },
        "id": "heuel9ic5XWB",
        "outputId": "d466c660-b8fa-421c-f6a5-e0ae6d829015"
      },
      "source": [
        "print(\"Distribution of Diabetes Across Age\\n\")\n",
        "plt.hist(train.age, rwidth= 0.5)"
      ],
      "execution_count": null,
      "outputs": [
        {
          "output_type": "stream",
          "name": "stdout",
          "text": [
            "Distribution of Diabetes Across Age\n",
            "\n"
          ]
        },
        {
          "output_type": "execute_result",
          "data": {
            "text/plain": [
              "(array([234., 112.,  70.,  63.,  42.,  27.,  13.,  10.,   4.,   1.]),\n",
              " array([21., 27., 33., 39., 45., 51., 57., 63., 69., 75., 81.]),\n",
              " <a list of 10 Patch objects>)"
            ]
          },
          "metadata": {},
          "execution_count": 12
        },
        {
          "output_type": "display_data",
          "data": {
            "image/png": "[encoded data removed]",
            "text/plain": [
              "<Figure size 432x288 with 1 Axes>"
            ]
          },
          "metadata": {
            "needs_background": "light"
          }
        }
      ]
    },
    {
      "cell_type": "code",
      "metadata": {
        "colab": {
          "base_uri": "https://localhost:8080/"
        },
        "id": "HRKuPZAGuoY-",
        "outputId": "f2c2d7bf-a3b6-47cb-fc6e-d3ba7317672d"
      },
      "source": [
        "print(\"Number of Zero's in variable num_times_pregnant:\", ((train['num_times_pregnant'] == 0).sum()/train['num_times_pregnant'].count()*100),\"%\")\n",
        "print(\"Number of Zero's: in variable plasma_glucose:\", ((train['plasma_glucose'] == 0).sum()/train['plasma_glucose'].count()*100),\"%\")\n",
        "print(\"Number of Zero's in varibale DBP:\", ((train['DBP'] == 0).sum()/train['DBP'].count()*100),\"%\")\n",
        "print(\"Number of Zero's in variable triceps_skin:\", ((train['triceps_skin'] == 0).sum()/train['triceps_skin'].count()*100),\"%\")\n",
        "print(\"Number of Zero's in variable serum_insulin:\", ((train['serum_insulin'] == 0).sum()/train['serum_insulin'].count()*100),\"%\")\n",
        "print(\"Number of Zero's in variable BMI:\", ((train['BMI'] == 0).sum()/train['BMI'].count()*100),\"%\")\n",
        "print(\"Number of Zero's in variable pedigree:\", ((train['pedigree'] == 0).sum()/train['pedigree'].count()*100),\"%\")\n",
        "print(\"Number of Zero's in variable age:\", ((train['age'] == 0).sum()/train['age'].count()*100),\"%\")"
      ],
      "execution_count": null,
      "outputs": [
        {
          "output_type": "stream",
          "name": "stdout",
          "text": [
            "Number of Zero's in variable num_times_pregnant: 14.930555555555555 %\n",
            "Number of Zero's: in variable plasma_glucose: 0.8680555555555556 %\n",
            "Number of Zero's in varibale DBP: 3.8194444444444446 %\n",
            "Number of Zero's in variable triceps_skin: 28.47222222222222 %\n",
            "Number of Zero's in variable serum_insulin: 47.91666666666667 %\n",
            "Number of Zero's in variable BMI: 1.0416666666666665 %\n",
            "Number of Zero's in variable pedigree: 0.0 %\n",
            "Number of Zero's in variable age: 0.0 %\n"
          ]
        }
      ]
    },
    {
      "cell_type": "code",
      "metadata": {
        "colab": {
          "base_uri": "https://localhost:8080/"
        },
        "id": "4WqJWldz3S9v",
        "outputId": "0ef79778-2641-4c55-921b-92e2d5144cf4"
      },
      "source": [
        "print(\"\\nColumn Name         % Null Values\\n\")\n",
        "print(((train[:] == 0).sum())/train[:].count()*100)\n",
        "\n",
        "colnamenull = round((((train[:] == 0).sum())/train[:].count()*100),2)\n",
        "print(colnamenull)"
      ],
      "execution_count": null,
      "outputs": [
        {
          "output_type": "stream",
          "name": "stdout",
          "text": [
            "\n",
            "Column Name         % Null Values\n",
            "\n",
            "Id                     0.000000\n",
            "num_times_pregnant    14.930556\n",
            "plasma_glucose         0.868056\n",
            "DBP                    3.819444\n",
            "triceps_skin          28.472222\n",
            "serum_insulin         47.916667\n",
            "BMI                    1.041667\n",
            "pedigree               0.000000\n",
            "age                    0.000000\n",
            "diabetes              65.451389\n",
            "dtype: float64\n",
            "Id                     0.00\n",
            "num_times_pregnant    14.93\n",
            "plasma_glucose         0.87\n",
            "DBP                    3.82\n",
            "triceps_skin          28.47\n",
            "serum_insulin         47.92\n",
            "BMI                    1.04\n",
            "pedigree               0.00\n",
            "age                    0.00\n",
            "diabetes              65.45\n",
            "dtype: float64\n"
          ]
        }
      ]
    },
    {
      "cell_type": "code",
      "metadata": {
        "colab": {
          "base_uri": "https://localhost:8080/",
          "height": 398
        },
        "id": "QsAYPWNwx1np",
        "outputId": "677eaab5-230c-4a63-878c-ff1b5f75f510"
      },
      "source": [
        "print(\"CORRELATION BETWEEN DIFFERENT VARIABLES\\n\")\n",
        "train.corr()"
      ],
      "execution_count": null,
      "outputs": [
        {
          "output_type": "stream",
          "name": "stdout",
          "text": [
            "CORRELATION BETWEEN DIFFERENT VARIABLES\n",
            "\n"
          ]
        },
        {
          "output_type": "execute_result",
          "data": {
            "text/html": [
              "<div>\n",
              "<style scoped>\n",
              "    .dataframe tbody tr th:only-of-type {\n",
              "        vertical-align: middle;\n",
              "    }\n",
              "\n",
              "    .dataframe tbody tr th {\n",
              "        vertical-align: top;\n",
              "    }\n",
              "\n",
              "    .dataframe thead th {\n",
              "        text-align: right;\n",
              "    }\n",
              "</style>\n",
              "<table border=\"1\" class=\"dataframe\">\n",
              "  <thead>\n",
              "    <tr style=\"text-align: right;\">\n",
              "      <th></th>\n",
              "      <th>Id</th>\n",
              "      <th>num_times_pregnant</th>\n",
              "      <th>plasma_glucose</th>\n",
              "      <th>DBP</th>\n",
              "      <th>triceps_skin</th>\n",
              "      <th>serum_insulin</th>\n",
              "      <th>BMI</th>\n",
              "      <th>pedigree</th>\n",
              "      <th>age</th>\n",
              "      <th>diabetes</th>\n",
              "    </tr>\n",
              "  </thead>\n",
              "  <tbody>\n",
              "    <tr>\n",
              "      <th>Id</th>\n",
              "      <td>1.000000</td>\n",
              "      <td>-0.047391</td>\n",
              "      <td>0.008874</td>\n",
              "      <td>-0.027607</td>\n",
              "      <td>-0.007282</td>\n",
              "      <td>-0.010534</td>\n",
              "      <td>0.014377</td>\n",
              "      <td>-0.045672</td>\n",
              "      <td>0.001413</td>\n",
              "      <td>-0.038006</td>\n",
              "    </tr>\n",
              "    <tr>\n",
              "      <th>num_times_pregnant</th>\n",
              "      <td>-0.047391</td>\n",
              "      <td>1.000000</td>\n",
              "      <td>0.138674</td>\n",
              "      <td>0.158280</td>\n",
              "      <td>-0.073347</td>\n",
              "      <td>-0.073807</td>\n",
              "      <td>0.036466</td>\n",
              "      <td>-0.023148</td>\n",
              "      <td>0.548398</td>\n",
              "      <td>0.207252</td>\n",
              "    </tr>\n",
              "    <tr>\n",
              "      <th>plasma_glucose</th>\n",
              "      <td>0.008874</td>\n",
              "      <td>0.138674</td>\n",
              "      <td>1.000000</td>\n",
              "      <td>0.156389</td>\n",
              "      <td>0.023878</td>\n",
              "      <td>0.348452</td>\n",
              "      <td>0.210237</td>\n",
              "      <td>0.158231</td>\n",
              "      <td>0.258958</td>\n",
              "      <td>0.473145</td>\n",
              "    </tr>\n",
              "    <tr>\n",
              "      <th>DBP</th>\n",
              "      <td>-0.027607</td>\n",
              "      <td>0.158280</td>\n",
              "      <td>0.156389</td>\n",
              "      <td>1.000000</td>\n",
              "      <td>0.161798</td>\n",
              "      <td>0.069441</td>\n",
              "      <td>0.224697</td>\n",
              "      <td>0.034222</td>\n",
              "      <td>0.241381</td>\n",
              "      <td>0.089261</td>\n",
              "    </tr>\n",
              "    <tr>\n",
              "      <th>triceps_skin</th>\n",
              "      <td>-0.007282</td>\n",
              "      <td>-0.073347</td>\n",
              "      <td>0.023878</td>\n",
              "      <td>0.161798</td>\n",
              "      <td>1.000000</td>\n",
              "      <td>0.421019</td>\n",
              "      <td>0.376571</td>\n",
              "      <td>0.171797</td>\n",
              "      <td>-0.150866</td>\n",
              "      <td>0.070013</td>\n",
              "    </tr>\n",
              "    <tr>\n",
              "      <th>serum_insulin</th>\n",
              "      <td>-0.010534</td>\n",
              "      <td>-0.073807</td>\n",
              "      <td>0.348452</td>\n",
              "      <td>0.069441</td>\n",
              "      <td>0.421019</td>\n",
              "      <td>1.000000</td>\n",
              "      <td>0.178234</td>\n",
              "      <td>0.161418</td>\n",
              "      <td>-0.046338</td>\n",
              "      <td>0.126352</td>\n",
              "    </tr>\n",
              "    <tr>\n",
              "      <th>BMI</th>\n",
              "      <td>0.014377</td>\n",
              "      <td>0.036466</td>\n",
              "      <td>0.210237</td>\n",
              "      <td>0.224697</td>\n",
              "      <td>0.376571</td>\n",
              "      <td>0.178234</td>\n",
              "      <td>1.000000</td>\n",
              "      <td>0.123487</td>\n",
              "      <td>0.017513</td>\n",
              "      <td>0.315124</td>\n",
              "    </tr>\n",
              "    <tr>\n",
              "      <th>pedigree</th>\n",
              "      <td>-0.045672</td>\n",
              "      <td>-0.023148</td>\n",
              "      <td>0.158231</td>\n",
              "      <td>0.034222</td>\n",
              "      <td>0.171797</td>\n",
              "      <td>0.161418</td>\n",
              "      <td>0.123487</td>\n",
              "      <td>1.000000</td>\n",
              "      <td>0.026399</td>\n",
              "      <td>0.146702</td>\n",
              "    </tr>\n",
              "    <tr>\n",
              "      <th>age</th>\n",
              "      <td>0.001413</td>\n",
              "      <td>0.548398</td>\n",
              "      <td>0.258958</td>\n",
              "      <td>0.241381</td>\n",
              "      <td>-0.150866</td>\n",
              "      <td>-0.046338</td>\n",
              "      <td>0.017513</td>\n",
              "      <td>0.026399</td>\n",
              "      <td>1.000000</td>\n",
              "      <td>0.284689</td>\n",
              "    </tr>\n",
              "    <tr>\n",
              "      <th>diabetes</th>\n",
              "      <td>-0.038006</td>\n",
              "      <td>0.207252</td>\n",
              "      <td>0.473145</td>\n",
              "      <td>0.089261</td>\n",
              "      <td>0.070013</td>\n",
              "      <td>0.126352</td>\n",
              "      <td>0.315124</td>\n",
              "      <td>0.146702</td>\n",
              "      <td>0.284689</td>\n",
              "      <td>1.000000</td>\n",
              "    </tr>\n",
              "  </tbody>\n",
              "</table>\n",
              "</div>"
            ],
            "text/plain": [
              "                          Id  num_times_pregnant  ...       age  diabetes\n",
              "Id                  1.000000           -0.047391  ...  0.001413 -0.038006\n",
              "num_times_pregnant -0.047391            1.000000  ...  0.548398  0.207252\n",
              "plasma_glucose      0.008874            0.138674  ...  0.258958  0.473145\n",
              "DBP                -0.027607            0.158280  ...  0.241381  0.089261\n",
              "triceps_skin       -0.007282           -0.073347  ... -0.150866  0.070013\n",
              "serum_insulin      -0.010534           -0.073807  ... -0.046338  0.126352\n",
              "BMI                 0.014377            0.036466  ...  0.017513  0.315124\n",
              "pedigree           -0.045672           -0.023148  ...  0.026399  0.146702\n",
              "age                 0.001413            0.548398  ...  1.000000  0.284689\n",
              "diabetes           -0.038006            0.207252  ...  0.284689  1.000000\n",
              "\n",
              "[10 rows x 10 columns]"
            ]
          },
          "metadata": {},
          "execution_count": 108
        }
      ]
    },
    {
      "cell_type": "code",
      "metadata": {
        "colab": {
          "base_uri": "https://localhost:8080/",
          "height": 691
        },
        "id": "Rob0hZG5q0AX",
        "outputId": "4a105d99-11d8-4424-f109-e9a4a226f66a"
      },
      "source": [
        "corr = train.corr()\n",
        "plt.subplots(figsize=(10,10))\n",
        "sns.heatmap(corr,xticklabels=True, yticklabels=True, cmap='Reds', annot=True)\n",
        "plt.show()"
      ],
      "execution_count": null,
      "outputs": [
        {
          "output_type": "display_data",
          "data": {
            "image/png": "[encoded data removed]",
            "text/plain": [
              "<Figure size 720x720 with 2 Axes>"
            ]
          },
          "metadata": {
            "needs_background": "light"
          }
        }
      ]
    },
    {
      "cell_type": "code",
      "metadata": {
        "id": "HScfkau2AvpF"
      },
      "source": [
        "x = train.drop(['diabetes','triceps_skin','serum_insulin'], axis=1)\n",
        "\n",
        "y = train['diabetes']\n"
      ],
      "execution_count": null,
      "outputs": []
    },
    {
      "cell_type": "code",
      "metadata": {
        "colab": {
          "base_uri": "https://localhost:8080/",
          "height": 204
        },
        "id": "8pPGzAbMskH5",
        "outputId": "e8535e71-d502-4cfe-a36e-a0b4627a8cd1"
      },
      "source": [
        "x.head(5)"
      ],
      "execution_count": null,
      "outputs": [
        {
          "output_type": "execute_result",
          "data": {
            "text/html": [
              "<div>\n",
              "<style scoped>\n",
              "    .dataframe tbody tr th:only-of-type {\n",
              "        vertical-align: middle;\n",
              "    }\n",
              "\n",
              "    .dataframe tbody tr th {\n",
              "        vertical-align: top;\n",
              "    }\n",
              "\n",
              "    .dataframe thead th {\n",
              "        text-align: right;\n",
              "    }\n",
              "</style>\n",
              "<table border=\"1\" class=\"dataframe\">\n",
              "  <thead>\n",
              "    <tr style=\"text-align: right;\">\n",
              "      <th></th>\n",
              "      <th>Id</th>\n",
              "      <th>num_times_pregnant</th>\n",
              "      <th>plasma_glucose</th>\n",
              "      <th>DBP</th>\n",
              "      <th>BMI</th>\n",
              "      <th>pedigree</th>\n",
              "      <th>age</th>\n",
              "    </tr>\n",
              "  </thead>\n",
              "  <tbody>\n",
              "    <tr>\n",
              "      <th>0</th>\n",
              "      <td>358</td>\n",
              "      <td>13</td>\n",
              "      <td>129</td>\n",
              "      <td>0</td>\n",
              "      <td>39.9</td>\n",
              "      <td>0.569</td>\n",
              "      <td>44</td>\n",
              "    </tr>\n",
              "    <tr>\n",
              "      <th>1</th>\n",
              "      <td>74</td>\n",
              "      <td>4</td>\n",
              "      <td>129</td>\n",
              "      <td>86</td>\n",
              "      <td>35.1</td>\n",
              "      <td>0.231</td>\n",
              "      <td>23</td>\n",
              "    </tr>\n",
              "    <tr>\n",
              "      <th>2</th>\n",
              "      <td>353</td>\n",
              "      <td>3</td>\n",
              "      <td>61</td>\n",
              "      <td>82</td>\n",
              "      <td>34.4</td>\n",
              "      <td>0.243</td>\n",
              "      <td>46</td>\n",
              "    </tr>\n",
              "    <tr>\n",
              "      <th>3</th>\n",
              "      <td>498</td>\n",
              "      <td>2</td>\n",
              "      <td>81</td>\n",
              "      <td>72</td>\n",
              "      <td>30.1</td>\n",
              "      <td>0.547</td>\n",
              "      <td>25</td>\n",
              "    </tr>\n",
              "    <tr>\n",
              "      <th>4</th>\n",
              "      <td>146</td>\n",
              "      <td>0</td>\n",
              "      <td>102</td>\n",
              "      <td>75</td>\n",
              "      <td>0.0</td>\n",
              "      <td>0.572</td>\n",
              "      <td>21</td>\n",
              "    </tr>\n",
              "  </tbody>\n",
              "</table>\n",
              "</div>"
            ],
            "text/plain": [
              "    Id  num_times_pregnant  plasma_glucose  DBP   BMI  pedigree  age\n",
              "0  358                  13             129    0  39.9     0.569   44\n",
              "1   74                   4             129   86  35.1     0.231   23\n",
              "2  353                   3              61   82  34.4     0.243   46\n",
              "3  498                   2              81   72  30.1     0.547   25\n",
              "4  146                   0             102   75   0.0     0.572   21"
            ]
          },
          "metadata": {},
          "execution_count": 16
        }
      ]
    },
    {
      "cell_type": "code",
      "metadata": {
        "colab": {
          "base_uri": "https://localhost:8080/"
        },
        "id": "SGxHD0YkCxTx",
        "outputId": "3321287f-bb39-421f-dff8-86ddb84a4c9d"
      },
      "source": [
        "y.head(5)"
      ],
      "execution_count": null,
      "outputs": [
        {
          "output_type": "execute_result",
          "data": {
            "text/plain": [
              "0    1\n",
              "1    0\n",
              "2    0\n",
              "3    0\n",
              "4    0\n",
              "Name: diabetes, dtype: int64"
            ]
          },
          "metadata": {},
          "execution_count": 17
        }
      ]
    },
    {
      "cell_type": "code",
      "metadata": {
        "id": "OLeJkDMMBiMe"
      },
      "source": [
        "# Doing Train Test Split\n",
        "from sklearn.model_selection import train_test_split\n",
        "x_train, x_val, y_train, y_val = train_test_split(x, y, test_size=0.25, random_state=42)\n",
        "from sklearn.metrics import accuracy_score\n",
        "from sklearn.metrics import classification_report,confusion_matrix"
      ],
      "execution_count": null,
      "outputs": []
    },
    {
      "cell_type": "code",
      "metadata": {
        "colab": {
          "base_uri": "https://localhost:8080/"
        },
        "id": "SUHfvgF5HcMY",
        "outputId": "91f0f9eb-bedf-405a-aaba-1e037ca53d16"
      },
      "source": [
        "from sklearn.linear_model import LogisticRegression\n",
        "\n",
        "model=LogisticRegression()\n",
        "model.fit(x_train, y_train)"
      ],
      "execution_count": null,
      "outputs": [
        {
          "output_type": "stream",
          "name": "stderr",
          "text": [
            "/usr/local/lib/python3.7/dist-packages/sklearn/linear_model/_logistic.py:818: ConvergenceWarning: lbfgs failed to converge (status=1):\n",
            "STOP: TOTAL NO. of ITERATIONS REACHED LIMIT.\n",
            "\n",
            "Increase the number of iterations (max_iter) or scale the data as shown in:\n",
            "    https://scikit-learn.org/stable/modules/preprocessing.html\n",
            "Please also refer to the documentation for alternative solver options:\n",
            "    https://scikit-learn.org/stable/modules/linear_model.html#logistic-regression\n",
            "  extra_warning_msg=_LOGISTIC_SOLVER_CONVERGENCE_MSG,\n"
          ]
        },
        {
          "output_type": "execute_result",
          "data": {
            "text/plain": [
              "LogisticRegression()"
            ]
          },
          "metadata": {},
          "execution_count": 19
        }
      ]
    },
    {
      "cell_type": "code",
      "metadata": {
        "colab": {
          "base_uri": "https://localhost:8080/"
        },
        "id": "hHTccQZ1vir8",
        "outputId": "628af0e0-bd6c-4cc7-f26c-771f15422f67"
      },
      "source": [
        "y_pred=model.predict(x_val)\n",
        "y_pred"
      ],
      "execution_count": null,
      "outputs": [
        {
          "output_type": "execute_result",
          "data": {
            "text/plain": [
              "array([1, 0, 1, 1, 0, 1, 0, 0, 0, 0, 1, 0, 0, 0, 0, 0, 1, 0, 0, 1, 0, 1,\n",
              "       0, 0, 1, 1, 0, 0, 0, 0, 1, 0, 0, 0, 0, 1, 0, 0, 0, 0, 0, 0, 0, 0,\n",
              "       0, 1, 0, 0, 0, 0, 1, 0, 1, 0, 0, 0, 0, 0, 1, 0, 0, 0, 0, 0, 0, 0,\n",
              "       1, 1, 0, 0, 0, 1, 0, 0, 1, 0, 0, 0, 1, 0, 0, 0, 0, 0, 0, 0, 1, 0,\n",
              "       0, 0, 0, 0, 0, 0, 0, 1, 0, 0, 0, 1, 0, 0, 0, 0, 0, 1, 0, 1, 1, 0,\n",
              "       0, 0, 0, 0, 0, 1, 0, 1, 0, 1, 0, 0, 1, 0, 0, 0, 0, 0, 1, 0, 1, 1,\n",
              "       0, 0, 0, 1, 1, 0, 0, 1, 1, 1, 0, 0])"
            ]
          },
          "metadata": {},
          "execution_count": 20
        }
      ]
    },
    {
      "cell_type": "code",
      "metadata": {
        "colab": {
          "base_uri": "https://localhost:8080/"
        },
        "id": "i_hW7LWY3eSw",
        "outputId": "52b1aab3-dc11-4379-cf61-567f07fd9ea3"
      },
      "source": [
        "acc = accuracy_score(y_val, y_pred,normalize=True)\n",
        "print(\"Accuracy: %.2f%%\" % (acc * 100.0))"
      ],
      "execution_count": null,
      "outputs": [
        {
          "output_type": "stream",
          "name": "stdout",
          "text": [
            "Accuracy: 81.25%\n"
          ]
        }
      ]
    },
    {
      "cell_type": "code",
      "metadata": {
        "colab": {
          "base_uri": "https://localhost:8080/"
        },
        "id": "OOTmjhG1OwJn",
        "outputId": "5a2be17d-49f8-4b58-ca59-9c1e8a7734ac"
      },
      "source": [
        "print(classification_report(y_val,y_pred))\n"
      ],
      "execution_count": null,
      "outputs": [
        {
          "output_type": "stream",
          "name": "stdout",
          "text": [
            "              precision    recall  f1-score   support\n",
            "\n",
            "           0       0.84      0.90      0.87        98\n",
            "           1       0.74      0.63      0.68        46\n",
            "\n",
            "    accuracy                           0.81       144\n",
            "   macro avg       0.79      0.76      0.77       144\n",
            "weighted avg       0.81      0.81      0.81       144\n",
            "\n"
          ]
        }
      ]
    },
    {
      "cell_type": "code",
      "metadata": {
        "colab": {
          "base_uri": "https://localhost:8080/"
        },
        "id": "A6-jgoq7PNsr",
        "outputId": "91d51ccf-4af8-4694-df0d-b3fe887e026c"
      },
      "source": [
        "cfm = confusion_matrix(y_val,y_pred)\n",
        "print(\"Confusion Matrix:\\n\", cfm, \"\\n\")\n",
        "\n",
        "trueNegative=cfm[0][0]\n",
        "falsePositive=cfm[0][1]\n",
        "falseNegative=cfm[1][0]\n",
        "truePositive=cfm[1][1]\n",
        "\n",
        "print(\"\\nCONFUSION MATRIX      VALUES\\n\")\n",
        "print(\"True Negative:        \", trueNegative)\n",
        "print(\"False Positive:       \", falsePositive)\n",
        "print(\"False Negative:       \", falseNegative)\n",
        "print(\"True Positive:        \", truePositive)\n"
      ],
      "execution_count": null,
      "outputs": [
        {
          "output_type": "stream",
          "name": "stdout",
          "text": [
            "Confusion Matrix:\n",
            " [[88 10]\n",
            " [17 29]] \n",
            "\n",
            "\n",
            "CONFUSION MATRIX      VALUES\n",
            "\n",
            "True Negative:         88\n",
            "False Positive:        10\n",
            "False Negative:        17\n",
            "True Positive:         29\n"
          ]
        }
      ]
    },
    {
      "cell_type": "code",
      "metadata": {
        "id": "GdWAicxVUgMf"
      },
      "source": [
        "# Make predictions on Test Data Set\n",
        "\n",
        "x_test = test.drop(['triceps_skin','serum_insulin'], axis=1)"
      ],
      "execution_count": null,
      "outputs": []
    },
    {
      "cell_type": "code",
      "metadata": {
        "colab": {
          "base_uri": "https://localhost:8080/"
        },
        "id": "tVuq7UO-ohYX",
        "outputId": "093c0cea-e36a-46b9-e3f9-ed1bdaf85342"
      },
      "source": [
        "test.info()"
      ],
      "execution_count": null,
      "outputs": [
        {
          "output_type": "stream",
          "name": "stdout",
          "text": [
            "<class 'pandas.core.frame.DataFrame'>\n",
            "RangeIndex: 192 entries, 0 to 191\n",
            "Data columns (total 9 columns):\n",
            " #   Column              Non-Null Count  Dtype  \n",
            "---  ------              --------------  -----  \n",
            " 0   Id                  192 non-null    int64  \n",
            " 1   num_times_pregnant  192 non-null    int64  \n",
            " 2   plasma_glucose      192 non-null    int64  \n",
            " 3   DBP                 192 non-null    int64  \n",
            " 4   triceps_skin        192 non-null    int64  \n",
            " 5   serum_insulin       192 non-null    int64  \n",
            " 6   BMI                 192 non-null    float64\n",
            " 7   pedigree            192 non-null    float64\n",
            " 8   age                 192 non-null    int64  \n",
            "dtypes: float64(2), int64(7)\n",
            "memory usage: 13.6 KB\n"
          ]
        }
      ]
    },
    {
      "cell_type": "code",
      "metadata": {
        "colab": {
          "base_uri": "https://localhost:8080/"
        },
        "id": "mnuyoMttlRD9",
        "outputId": "5d17700f-e09d-4f5c-9b4a-4b9ed7f89413"
      },
      "source": [
        "x_test.info()"
      ],
      "execution_count": null,
      "outputs": [
        {
          "output_type": "stream",
          "name": "stdout",
          "text": [
            "<class 'pandas.core.frame.DataFrame'>\n",
            "RangeIndex: 192 entries, 0 to 191\n",
            "Data columns (total 7 columns):\n",
            " #   Column              Non-Null Count  Dtype  \n",
            "---  ------              --------------  -----  \n",
            " 0   Id                  192 non-null    int64  \n",
            " 1   num_times_pregnant  192 non-null    int64  \n",
            " 2   plasma_glucose      192 non-null    int64  \n",
            " 3   DBP                 192 non-null    int64  \n",
            " 4   BMI                 192 non-null    float64\n",
            " 5   pedigree            192 non-null    float64\n",
            " 6   age                 192 non-null    int64  \n",
            "dtypes: float64(2), int64(5)\n",
            "memory usage: 10.6 KB\n"
          ]
        }
      ]
    },
    {
      "cell_type": "code",
      "metadata": {
        "id": "UNQ2C0CjW9Y2"
      },
      "source": [
        "predict = model.predict(x_test)"
      ],
      "execution_count": null,
      "outputs": []
    },
    {
      "cell_type": "code",
      "metadata": {
        "colab": {
          "base_uri": "https://localhost:8080/"
        },
        "id": "7gWdq9e2lU_O",
        "outputId": "95edeed0-c9e3-40b7-88ed-e44dbe0f9449"
      },
      "source": [
        "print(\"Prediced Value:\", predict)"
      ],
      "execution_count": null,
      "outputs": [
        {
          "output_type": "stream",
          "name": "stdout",
          "text": [
            "Prediced Value: [0 0 0 0 0 1 0 1 1 1 0 1 0 0 0 0 0 0 1 1 0 0 0 0 1 1 0 0 0 0 1 1 1 1 1 1 1\n",
            " 0 0 1 0 1 1 0 0 1 1 0 0 1 0 1 1 0 0 0 1 0 0 1 1 0 0 0 0 1 0 1 0 1 1 0 0 0\n",
            " 0 0 0 0 0 0 1 0 0 0 0 1 1 0 0 0 0 0 0 0 1 1 0 0 1 0 1 0 1 1 1 0 0 1 0 0 0\n",
            " 0 0 1 0 0 1 0 0 1 0 0 0 0 0 0 0 1 1 1 1 1 0 0 1 0 0 1 1 0 0 0 0 1 0 0 0 0\n",
            " 0 1 0 0 0 0 0 0 0 1 1 0 1 1 0 0 0 1 0 0 1 1 1 0 0 1 1 0 0 0 0 0 0 1 0 1 1\n",
            " 0 0 0 1 0 0 0]\n"
          ]
        }
      ]
    },
    {
      "cell_type": "code",
      "metadata": {
        "colab": {
          "base_uri": "https://localhost:8080/",
          "height": 204
        },
        "id": "NCKElcgmXGv7",
        "outputId": "a6d51d23-c15c-465d-eda7-49129e526a29"
      },
      "source": [
        "my_submission = pd.DataFrame({'Id':test.Id, 'Predicted':predict})\n",
        "\n",
        "my_submission.head(5)"
      ],
      "execution_count": null,
      "outputs": [
        {
          "output_type": "execute_result",
          "data": {
            "text/html": [
              "<div>\n",
              "<style scoped>\n",
              "    .dataframe tbody tr th:only-of-type {\n",
              "        vertical-align: middle;\n",
              "    }\n",
              "\n",
              "    .dataframe tbody tr th {\n",
              "        vertical-align: top;\n",
              "    }\n",
              "\n",
              "    .dataframe thead th {\n",
              "        text-align: right;\n",
              "    }\n",
              "</style>\n",
              "<table border=\"1\" class=\"dataframe\">\n",
              "  <thead>\n",
              "    <tr style=\"text-align: right;\">\n",
              "      <th></th>\n",
              "      <th>Id</th>\n",
              "      <th>Predicted</th>\n",
              "    </tr>\n",
              "  </thead>\n",
              "  <tbody>\n",
              "    <tr>\n",
              "      <th>0</th>\n",
              "      <td>669</td>\n",
              "      <td>0</td>\n",
              "    </tr>\n",
              "    <tr>\n",
              "      <th>1</th>\n",
              "      <td>325</td>\n",
              "      <td>0</td>\n",
              "    </tr>\n",
              "    <tr>\n",
              "      <th>2</th>\n",
              "      <td>625</td>\n",
              "      <td>0</td>\n",
              "    </tr>\n",
              "    <tr>\n",
              "      <th>3</th>\n",
              "      <td>691</td>\n",
              "      <td>0</td>\n",
              "    </tr>\n",
              "    <tr>\n",
              "      <th>4</th>\n",
              "      <td>474</td>\n",
              "      <td>0</td>\n",
              "    </tr>\n",
              "  </tbody>\n",
              "</table>\n",
              "</div>"
            ],
            "text/plain": [
              "    Id  Predicted\n",
              "0  669          0\n",
              "1  325          0\n",
              "2  625          0\n",
              "3  691          0\n",
              "4  474          0"
            ]
          },
          "metadata": {},
          "execution_count": 30
        }
      ]
    },
    {
      "cell_type": "code",
      "metadata": {
        "colab": {
          "base_uri": "https://localhost:8080/",
          "height": 34
        },
        "id": "JW3gXrQPXtIC",
        "outputId": "ac0bb5a3-0ede-442b-b1dd-5d71bfbd5153"
      },
      "source": [
        "my_submission.to_csv(\"my_submission_LogReg_Shitangshu_Maity.csv\", index=False, header=True)\n",
        "\n",
        "from google.colab import files\n",
        "files.download(\"my_submission_LogReg_Shitangshu_Maity.csv\")\n",
        "\n",
        "my_submission.to_csv(\"/content/drive/MyDrive/MMA 869 Kaggle Diabetes/my_submission_LogReg_Shitangshu_Maity.csv\", index=False, header=True)"
      ],
      "execution_count": null,
      "outputs": [
        {
          "output_type": "display_data",
          "data": {
            "application/javascript": [
              "\n",
              "    async function download(id, filename, size) {\n",
              "      if (!google.colab.kernel.accessAllowed) {\n",
              "        return;\n",
              "      }\n",
              "      const div = document.createElement('div');\n",
              "      const label = document.createElement('label');\n",
              "      label.textContent = `Downloading \"${filename}\": `;\n",
              "      div.appendChild(label);\n",
              "      const progress = document.createElement('progress');\n",
              "      progress.max = size;\n",
              "      div.appendChild(progress);\n",
              "      document.body.appendChild(div);\n",
              "\n",
              "      const buffers = [];\n",
              "      let downloaded = 0;\n",
              "\n",
              "      const channel = await google.colab.kernel.comms.open(id);\n",
              "      // Send a message to notify the kernel that we're ready.\n",
              "      channel.send({})\n",
              "\n",
              "      for await (const message of channel.messages) {\n",
              "        // Send a message to notify the kernel that we're ready.\n",
              "        channel.send({})\n",
              "        if (message.buffers) {\n",
              "          for (const buffer of message.buffers) {\n",
              "            buffers.push(buffer);\n",
              "            downloaded += buffer.byteLength;\n",
              "            progress.value = downloaded;\n",
              "          }\n",
              "        }\n",
              "      }\n",
              "      const blob = new Blob(buffers, {type: 'application/binary'});\n",
              "      const a = document.createElement('a');\n",
              "      a.href = window.URL.createObjectURL(blob);\n",
              "      a.download = filename;\n",
              "      div.appendChild(a);\n",
              "      a.click();\n",
              "      div.remove();\n",
              "    }\n",
              "  "
            ],
            "text/plain": [
              "<IPython.core.display.Javascript object>"
            ]
          },
          "metadata": {}
        },
        {
          "output_type": "display_data",
          "data": {
            "application/javascript": [
              "download(\"download_31271423-e1a6-4773-a7b2-30b50f0957af\", \"my_submission_LogReg_Shitangshu_Maity.csv\", 1131)"
            ],
            "text/plain": [
              "<IPython.core.display.Javascript object>"
            ]
          },
          "metadata": {}
        }
      ]
    }
  ]
}